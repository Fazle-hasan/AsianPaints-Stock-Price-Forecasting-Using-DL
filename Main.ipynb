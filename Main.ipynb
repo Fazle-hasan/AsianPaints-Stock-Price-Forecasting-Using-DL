{
 "cells": [
  {
   "cell_type": "code",
   "execution_count": 154,
   "metadata": {},
   "outputs": [],
   "source": [
    "import numpy as np\n",
    "import pandas as pd\n",
    "import matplotlib.pyplot as plt"
   ]
  },
  {
   "cell_type": "code",
   "execution_count": 155,
   "metadata": {},
   "outputs": [
    {
     "data": {
      "text/html": [
       "<div>\n",
       "<style scoped>\n",
       "    .dataframe tbody tr th:only-of-type {\n",
       "        vertical-align: middle;\n",
       "    }\n",
       "\n",
       "    .dataframe tbody tr th {\n",
       "        vertical-align: top;\n",
       "    }\n",
       "\n",
       "    .dataframe thead th {\n",
       "        text-align: right;\n",
       "    }\n",
       "</style>\n",
       "<table border=\"1\" class=\"dataframe\">\n",
       "  <thead>\n",
       "    <tr style=\"text-align: right;\">\n",
       "      <th></th>\n",
       "      <th>Date</th>\n",
       "      <th>Open</th>\n",
       "      <th>High</th>\n",
       "      <th>Low</th>\n",
       "      <th>Close</th>\n",
       "      <th>Adj Close</th>\n",
       "      <th>Volume</th>\n",
       "    </tr>\n",
       "  </thead>\n",
       "  <tbody>\n",
       "    <tr>\n",
       "      <th>0</th>\n",
       "      <td>01-01-2015</td>\n",
       "      <td>751.099976</td>\n",
       "      <td>754.500000</td>\n",
       "      <td>747.000000</td>\n",
       "      <td>749.150024</td>\n",
       "      <td>714.733154</td>\n",
       "      <td>284935</td>\n",
       "    </tr>\n",
       "    <tr>\n",
       "      <th>1</th>\n",
       "      <td>02-01-2015</td>\n",
       "      <td>751.250000</td>\n",
       "      <td>781.450012</td>\n",
       "      <td>751.250000</td>\n",
       "      <td>775.049988</td>\n",
       "      <td>739.443176</td>\n",
       "      <td>2080850</td>\n",
       "    </tr>\n",
       "    <tr>\n",
       "      <th>2</th>\n",
       "      <td>05-01-2015</td>\n",
       "      <td>779.900024</td>\n",
       "      <td>787.900024</td>\n",
       "      <td>772.700012</td>\n",
       "      <td>775.000000</td>\n",
       "      <td>739.395447</td>\n",
       "      <td>1326999</td>\n",
       "    </tr>\n",
       "    <tr>\n",
       "      <th>3</th>\n",
       "      <td>06-01-2015</td>\n",
       "      <td>775.000000</td>\n",
       "      <td>783.000000</td>\n",
       "      <td>750.400024</td>\n",
       "      <td>756.500000</td>\n",
       "      <td>721.745239</td>\n",
       "      <td>1510720</td>\n",
       "    </tr>\n",
       "    <tr>\n",
       "      <th>4</th>\n",
       "      <td>07-01-2015</td>\n",
       "      <td>763.400024</td>\n",
       "      <td>778.349976</td>\n",
       "      <td>759.250000</td>\n",
       "      <td>771.700012</td>\n",
       "      <td>736.247070</td>\n",
       "      <td>1427667</td>\n",
       "    </tr>\n",
       "  </tbody>\n",
       "</table>\n",
       "</div>"
      ],
      "text/plain": [
       "         Date        Open        High         Low       Close   Adj Close  \\\n",
       "0  01-01-2015  751.099976  754.500000  747.000000  749.150024  714.733154   \n",
       "1  02-01-2015  751.250000  781.450012  751.250000  775.049988  739.443176   \n",
       "2  05-01-2015  779.900024  787.900024  772.700012  775.000000  739.395447   \n",
       "3  06-01-2015  775.000000  783.000000  750.400024  756.500000  721.745239   \n",
       "4  07-01-2015  763.400024  778.349976  759.250000  771.700012  736.247070   \n",
       "\n",
       "    Volume  \n",
       "0   284935  \n",
       "1  2080850  \n",
       "2  1326999  \n",
       "3  1510720  \n",
       "4  1427667  "
      ]
     },
     "execution_count": 155,
     "metadata": {},
     "output_type": "execute_result"
    }
   ],
   "source": [
    "df = pd.read_csv(\"ASIANPAINT_MAX_1.csv\")\n",
    "df.head()"
   ]
  },
  {
   "cell_type": "code",
   "execution_count": 156,
   "metadata": {},
   "outputs": [
    {
     "data": {
      "image/png": "[encoded data removed]",
      "text/plain": [
       "<Figure size 432x288 with 1 Axes>"
      ]
     },
     "metadata": {
      "needs_background": "light"
     },
     "output_type": "display_data"
    }
   ],
   "source": [
    "plt.plot(df['Close'],label = 'Close')\n",
    "plt.title('Asian Paint Stock graph')\n",
    "plt.legend()\n",
    "plt.show()"
   ]
  },
  {
   "cell_type": "code",
   "execution_count": 157,
   "metadata": {},
   "outputs": [
    {
     "name": "stdout",
     "output_type": "stream",
     "text": [
      "<class 'pandas.core.frame.DataFrame'>\n",
      "RangeIndex: 1749 entries, 0 to 1748\n",
      "Data columns (total 7 columns):\n",
      " #   Column     Non-Null Count  Dtype  \n",
      "---  ------     --------------  -----  \n",
      " 0   Date       1749 non-null   object \n",
      " 1   Open       1749 non-null   float64\n",
      " 2   High       1749 non-null   float64\n",
      " 3   Low        1749 non-null   float64\n",
      " 4   Close      1749 non-null   float64\n",
      " 5   Adj Close  1749 non-null   float64\n",
      " 6   Volume     1749 non-null   int64  \n",
      "dtypes: float64(5), int64(1), object(1)\n",
      "memory usage: 95.8+ KB\n"
     ]
    }
   ],
   "source": [
    "# Lets perfrom some EDA on data\n",
    "df.info()"
   ]
  },
  {
   "cell_type": "code",
   "execution_count": 158,
   "metadata": {},
   "outputs": [
    {
     "data": {
      "text/html": [
       "<div>\n",
       "<style scoped>\n",
       "    .dataframe tbody tr th:only-of-type {\n",
       "        vertical-align: middle;\n",
       "    }\n",
       "\n",
       "    .dataframe tbody tr th {\n",
       "        vertical-align: top;\n",
       "    }\n",
       "\n",
       "    .dataframe thead th {\n",
       "        text-align: right;\n",
       "    }\n",
       "</style>\n",
       "<table border=\"1\" class=\"dataframe\">\n",
       "  <thead>\n",
       "    <tr style=\"text-align: right;\">\n",
       "      <th></th>\n",
       "      <th>Open</th>\n",
       "      <th>High</th>\n",
       "      <th>Low</th>\n",
       "      <th>Close</th>\n",
       "      <th>Adj Close</th>\n",
       "      <th>Volume</th>\n",
       "    </tr>\n",
       "  </thead>\n",
       "  <tbody>\n",
       "    <tr>\n",
       "      <th>count</th>\n",
       "      <td>1749.000000</td>\n",
       "      <td>1749.000000</td>\n",
       "      <td>1749.000000</td>\n",
       "      <td>1749.000000</td>\n",
       "      <td>1749.000000</td>\n",
       "      <td>1.749000e+03</td>\n",
       "    </tr>\n",
       "    <tr>\n",
       "      <th>mean</th>\n",
       "      <td>1526.058005</td>\n",
       "      <td>1543.211635</td>\n",
       "      <td>1507.383821</td>\n",
       "      <td>1524.937192</td>\n",
       "      <td>1499.666032</td>\n",
       "      <td>1.382496e+06</td>\n",
       "    </tr>\n",
       "    <tr>\n",
       "      <th>std</th>\n",
       "      <td>714.045988</td>\n",
       "      <td>721.759447</td>\n",
       "      <td>705.606331</td>\n",
       "      <td>713.502130</td>\n",
       "      <td>723.019892</td>\n",
       "      <td>1.023258e+06</td>\n",
       "    </tr>\n",
       "    <tr>\n",
       "      <th>min</th>\n",
       "      <td>700.950012</td>\n",
       "      <td>706.000000</td>\n",
       "      <td>693.000000</td>\n",
       "      <td>698.549988</td>\n",
       "      <td>666.457642</td>\n",
       "      <td>7.026400e+04</td>\n",
       "    </tr>\n",
       "    <tr>\n",
       "      <th>25%</th>\n",
       "      <td>1003.099976</td>\n",
       "      <td>1017.049988</td>\n",
       "      <td>994.000000</td>\n",
       "      <td>1003.299988</td>\n",
       "      <td>972.370972</td>\n",
       "      <td>7.570530e+05</td>\n",
       "    </tr>\n",
       "    <tr>\n",
       "      <th>50%</th>\n",
       "      <td>1280.000000</td>\n",
       "      <td>1297.000000</td>\n",
       "      <td>1268.099976</td>\n",
       "      <td>1284.449951</td>\n",
       "      <td>1253.548828</td>\n",
       "      <td>1.103162e+06</td>\n",
       "    </tr>\n",
       "    <tr>\n",
       "      <th>75%</th>\n",
       "      <td>1787.599976</td>\n",
       "      <td>1806.300049</td>\n",
       "      <td>1766.849976</td>\n",
       "      <td>1789.550049</td>\n",
       "      <td>1766.066895</td>\n",
       "      <td>1.636939e+06</td>\n",
       "    </tr>\n",
       "    <tr>\n",
       "      <th>max</th>\n",
       "      <td>3580.000000</td>\n",
       "      <td>3590.000000</td>\n",
       "      <td>3534.000000</td>\n",
       "      <td>3576.300049</td>\n",
       "      <td>3576.300049</td>\n",
       "      <td>1.154592e+07</td>\n",
       "    </tr>\n",
       "  </tbody>\n",
       "</table>\n",
       "</div>"
      ],
      "text/plain": [
       "              Open         High          Low        Close    Adj Close  \\\n",
       "count  1749.000000  1749.000000  1749.000000  1749.000000  1749.000000   \n",
       "mean   1526.058005  1543.211635  1507.383821  1524.937192  1499.666032   \n",
       "std     714.045988   721.759447   705.606331   713.502130   723.019892   \n",
       "min     700.950012   706.000000   693.000000   698.549988   666.457642   \n",
       "25%    1003.099976  1017.049988   994.000000  1003.299988   972.370972   \n",
       "50%    1280.000000  1297.000000  1268.099976  1284.449951  1253.548828   \n",
       "75%    1787.599976  1806.300049  1766.849976  1789.550049  1766.066895   \n",
       "max    3580.000000  3590.000000  3534.000000  3576.300049  3576.300049   \n",
       "\n",
       "             Volume  \n",
       "count  1.749000e+03  \n",
       "mean   1.382496e+06  \n",
       "std    1.023258e+06  \n",
       "min    7.026400e+04  \n",
       "25%    7.570530e+05  \n",
       "50%    1.103162e+06  \n",
       "75%    1.636939e+06  \n",
       "max    1.154592e+07  "
      ]
     },
     "execution_count": 158,
     "metadata": {},
     "output_type": "execute_result"
    }
   ],
   "source": [
    "df.describe()"
   ]
  },
  {
   "cell_type": "code",
   "execution_count": 159,
   "metadata": {},
   "outputs": [
    {
     "data": {
      "text/plain": [
       "Date         0\n",
       "Open         0\n",
       "High         0\n",
       "Low          0\n",
       "Close        0\n",
       "Adj Close    0\n",
       "Volume       0\n",
       "dtype: int64"
      ]
     },
     "execution_count": 159,
     "metadata": {},
     "output_type": "execute_result"
    }
   ],
   "source": [
    "# lets check we any null value in our data or not\n",
    "df.isnull().sum()"
   ]
  },
  {
   "cell_type": "code",
   "execution_count": 160,
   "metadata": {},
   "outputs": [],
   "source": [
    "# So we have total 10 Null values in our data so we exchange the null values to the mean of the column\n",
    "# So lets make copy of data \n",
    "df1 = df.copy()"
   ]
  },
  {
   "cell_type": "code",
   "execution_count": 161,
   "metadata": {},
   "outputs": [
    {
     "data": {
      "text/plain": [
       "Index(['Open', 'High', 'Low', 'Close', 'Adj Close', 'Volume'], dtype='object')"
      ]
     },
     "execution_count": 161,
     "metadata": {},
     "output_type": "execute_result"
    }
   ],
   "source": [
    "df1.columns[1:]"
   ]
  },
  {
   "cell_type": "code",
   "execution_count": 162,
   "metadata": {},
   "outputs": [],
   "source": [
    "for i in df1.columns[1:]:\n",
    "    df1[i].fillna(df[i].mean(),inplace = True)"
   ]
  },
  {
   "cell_type": "code",
   "execution_count": 163,
   "metadata": {},
   "outputs": [
    {
     "data": {
      "text/plain": [
       "Date         0\n",
       "Open         0\n",
       "High         0\n",
       "Low          0\n",
       "Close        0\n",
       "Adj Close    0\n",
       "Volume       0\n",
       "dtype: int64"
      ]
     },
     "execution_count": 163,
     "metadata": {},
     "output_type": "execute_result"
    }
   ],
   "source": [
    "# So here we romove the all nun values with mean value\n",
    "df1.isnull().sum()"
   ]
  },
  {
   "cell_type": "code",
   "execution_count": 164,
   "metadata": {},
   "outputs": [
    {
     "data": {
      "text/plain": [
       "(1749, 7)"
      ]
     },
     "execution_count": 164,
     "metadata": {},
     "output_type": "execute_result"
    }
   ],
   "source": [
    "df1.shape"
   ]
  },
  {
   "cell_type": "code",
   "execution_count": 165,
   "metadata": {},
   "outputs": [
    {
     "data": {
      "text/plain": [
       "0        749.150024\n",
       "1        775.049988\n",
       "2        775.000000\n",
       "3        756.500000\n",
       "4        771.700012\n",
       "           ...     \n",
       "1744    3147.100098\n",
       "1745    3116.949951\n",
       "1746    3110.850098\n",
       "1747    3152.250000\n",
       "1748    3196.250000\n",
       "Name: Close, Length: 1749, dtype: float64"
      ]
     },
     "execution_count": 165,
     "metadata": {},
     "output_type": "execute_result"
    }
   ],
   "source": [
    "# Making the DataFrame for Closing price\n",
    "df1=df.reset_index()['Close']\n",
    "df1"
   ]
  },
  {
   "cell_type": "code",
   "execution_count": 166,
   "metadata": {},
   "outputs": [],
   "source": [
    "### LSTM are sensitive to the scale of the data. so we apply MinMax scaler \n",
    "from sklearn.preprocessing import MinMaxScaler\n",
    "scaler=MinMaxScaler(feature_range=(0,1))\n",
    "df1=scaler.fit_transform(np.array(df1).reshape(-1,1))"
   ]
  },
  {
   "cell_type": "code",
   "execution_count": 167,
   "metadata": {},
   "outputs": [
    {
     "name": "stdout",
     "output_type": "stream",
     "text": [
      "[[0.01758319]\n",
      " [0.02658327]\n",
      " [0.0265659 ]\n",
      " ...\n",
      " [0.83825908]\n",
      " [0.85264528]\n",
      " [0.867935  ]]\n"
     ]
    }
   ],
   "source": [
    "print(df1)"
   ]
  },
  {
   "cell_type": "code",
   "execution_count": 168,
   "metadata": {},
   "outputs": [],
   "source": [
    "##splitting dataset into train and test split\n",
    "training_size=int(len(df1)*0.70)\n",
    "test_size=len(df1)-training_size\n",
    "train_data,test_data=df1[0:training_size,:],df1[training_size:len(df1),:1]"
   ]
  },
  {
   "cell_type": "code",
   "execution_count": 169,
   "metadata": {},
   "outputs": [
    {
     "data": {
      "text/plain": [
       "(1224, 525)"
      ]
     },
     "execution_count": 169,
     "metadata": {},
     "output_type": "execute_result"
    }
   ],
   "source": [
    "training_size,test_size"
   ]
  },
  {
   "cell_type": "code",
   "execution_count": 170,
   "metadata": {},
   "outputs": [
    {
     "data": {
      "text/plain": [
       "array([[0.01758319],\n",
       "       [0.02658327],\n",
       "       [0.0265659 ],\n",
       "       ...,\n",
       "       [0.38382416],\n",
       "       [0.38248631],\n",
       "       [0.38537053]])"
      ]
     },
     "execution_count": 170,
     "metadata": {},
     "output_type": "execute_result"
    }
   ],
   "source": [
    "train_data"
   ]
  },
  {
   "cell_type": "code",
   "execution_count": 171,
   "metadata": {},
   "outputs": [],
   "source": [
    "import numpy\n",
    "# convert an array of values into a dataset matrix\n",
    "def create_dataset(dataset, time_step=1):\n",
    "\tdataX, dataY = [], []\n",
    "\tfor i in range(len(dataset)-time_step-1):\n",
    "\t\ta = dataset[i:(i+time_step), 0]   ###i=0, 0,1,2,3-----99   100 \n",
    "\t\tdataX.append(a)\n",
    "\t\tdataY.append(dataset[i + time_step, 0])\n",
    "\treturn numpy.array(dataX), numpy.array(dataY)"
   ]
  },
  {
   "cell_type": "code",
   "execution_count": 172,
   "metadata": {},
   "outputs": [],
   "source": [
    "# reshape into X=t,t+1,t+2,t+3 and Y=t+4\n",
    "time_step = 100\n",
    "X_train, y_train = create_dataset(train_data, time_step)\n",
    "X_test, ytest = create_dataset(test_data, time_step)"
   ]
  },
  {
   "cell_type": "code",
   "execution_count": 173,
   "metadata": {},
   "outputs": [
    {
     "name": "stdout",
     "output_type": "stream",
     "text": [
      "(1123, 100)\n",
      "(1123,)\n"
     ]
    },
    {
     "data": {
      "text/plain": [
       "(None, None)"
      ]
     },
     "execution_count": 173,
     "metadata": {},
     "output_type": "execute_result"
    }
   ],
   "source": [
    "print(X_train.shape), print(y_train.shape)"
   ]
  },
  {
   "cell_type": "code",
   "execution_count": 174,
   "metadata": {},
   "outputs": [
    {
     "name": "stdout",
     "output_type": "stream",
     "text": [
      "(424, 100)\n",
      "(424,)\n"
     ]
    },
    {
     "data": {
      "text/plain": [
       "(None, None)"
      ]
     },
     "execution_count": 174,
     "metadata": {},
     "output_type": "execute_result"
    }
   ],
   "source": [
    "print(X_test.shape), print(ytest.shape)"
   ]
  },
  {
   "cell_type": "code",
   "execution_count": 175,
   "metadata": {},
   "outputs": [],
   "source": [
    "# reshape input to be [samples, time steps, features] which is required for LSTM\n",
    "X_train =X_train.reshape(X_train.shape[0],X_train.shape[1] , 1)\n",
    "X_test = X_test.reshape(X_test.shape[0],X_test.shape[1] , 1)"
   ]
  },
  {
   "cell_type": "code",
   "execution_count": 176,
   "metadata": {},
   "outputs": [],
   "source": [
    "### Create the Stacked LSTM model\n",
    "from tensorflow.keras.models import Sequential\n",
    "from tensorflow.keras.layers import Dense\n",
    "from tensorflow.keras.layers import LSTM"
   ]
  },
  {
   "cell_type": "code",
   "execution_count": 177,
   "metadata": {},
   "outputs": [],
   "source": [
    "model=Sequential()\n",
    "model.add(LSTM(50,return_sequences=True,input_shape=(100,1)))\n",
    "model.add(LSTM(50,return_sequences=True))\n",
    "model.add(LSTM(50))\n",
    "model.add(Dense(1))\n",
    "model.compile(loss='mean_squared_error',optimizer='adam')"
   ]
  },
  {
   "cell_type": "code",
   "execution_count": 178,
   "metadata": {},
   "outputs": [
    {
     "name": "stdout",
     "output_type": "stream",
     "text": [
      "Model: \"sequential_7\"\n",
      "_________________________________________________________________\n",
      " Layer (type)                Output Shape              Param #   \n",
      "=================================================================\n",
      " lstm_21 (LSTM)              (None, 100, 50)           10400     \n",
      "                                                                 \n",
      " lstm_22 (LSTM)              (None, 100, 50)           20200     \n",
      "                                                                 \n",
      " lstm_23 (LSTM)              (None, 50)                20200     \n",
      "                                                                 \n",
      " dense_7 (Dense)             (None, 1)                 51        \n",
      "                                                                 \n",
      "=================================================================\n",
      "Total params: 50,851\n",
      "Trainable params: 50,851\n",
      "Non-trainable params: 0\n",
      "_________________________________________________________________\n"
     ]
    }
   ],
   "source": [
    "model.summary()"
   ]
  },
  {
   "cell_type": "code",
   "execution_count": 179,
   "metadata": {},
   "outputs": [
    {
     "name": "stdout",
     "output_type": "stream",
     "text": [
      "Epoch 1/100\n",
      "18/18 [==============================] - 11s 293ms/step - loss: 0.0060 - val_loss: 0.0437\n",
      "Epoch 2/100\n",
      "18/18 [==============================] - 4s 215ms/step - loss: 9.1500e-04 - val_loss: 0.0024\n",
      "Epoch 3/100\n",
      "18/18 [==============================] - 4s 224ms/step - loss: 4.1734e-04 - val_loss: 0.0045\n",
      "Epoch 4/100\n",
      "18/18 [==============================] - 4s 224ms/step - loss: 3.2286e-04 - val_loss: 0.0025\n",
      "Epoch 5/100\n",
      "18/18 [==============================] - 4s 230ms/step - loss: 3.1028e-04 - val_loss: 0.0029\n",
      "Epoch 6/100\n",
      "18/18 [==============================] - 4s 242ms/step - loss: 3.0000e-04 - val_loss: 0.0021\n",
      "Epoch 7/100\n",
      "18/18 [==============================] - 5s 254ms/step - loss: 3.1186e-04 - val_loss: 0.0016\n",
      "Epoch 8/100\n",
      "18/18 [==============================] - 5s 254ms/step - loss: 2.8607e-04 - val_loss: 0.0030\n",
      "Epoch 9/100\n",
      "18/18 [==============================] - 5s 260ms/step - loss: 2.7798e-04 - val_loss: 0.0023\n",
      "Epoch 10/100\n",
      "18/18 [==============================] - 5s 261ms/step - loss: 2.7087e-04 - val_loss: 0.0015\n",
      "Epoch 11/100\n",
      "18/18 [==============================] - 5s 269ms/step - loss: 2.6063e-04 - val_loss: 0.0017\n",
      "Epoch 12/100\n",
      "18/18 [==============================] - 5s 269ms/step - loss: 2.6367e-04 - val_loss: 0.0023\n",
      "Epoch 13/100\n",
      "18/18 [==============================] - 5s 285ms/step - loss: 2.7769e-04 - val_loss: 0.0015\n",
      "Epoch 14/100\n",
      "18/18 [==============================] - 5s 275ms/step - loss: 2.6243e-04 - val_loss: 0.0016\n",
      "Epoch 15/100\n",
      "18/18 [==============================] - 5s 277ms/step - loss: 2.5100e-04 - val_loss: 0.0021\n",
      "Epoch 16/100\n",
      "18/18 [==============================] - 5s 282ms/step - loss: 2.3431e-04 - val_loss: 0.0022\n",
      "Epoch 17/100\n",
      "18/18 [==============================] - 5s 281ms/step - loss: 2.3098e-04 - val_loss: 0.0016\n",
      "Epoch 18/100\n",
      "18/18 [==============================] - 5s 288ms/step - loss: 2.0953e-04 - val_loss: 0.0012\n",
      "Epoch 19/100\n",
      "18/18 [==============================] - 5s 289ms/step - loss: 2.0435e-04 - val_loss: 0.0016\n",
      "Epoch 20/100\n",
      "18/18 [==============================] - 5s 288ms/step - loss: 1.9515e-04 - val_loss: 0.0019\n",
      "Epoch 21/100\n",
      "18/18 [==============================] - 5s 290ms/step - loss: 2.0072e-04 - val_loss: 0.0017\n",
      "Epoch 22/100\n",
      "18/18 [==============================] - 5s 297ms/step - loss: 2.0568e-04 - val_loss: 0.0011\n",
      "Epoch 23/100\n",
      "18/18 [==============================] - 5s 292ms/step - loss: 1.8473e-04 - val_loss: 0.0026\n",
      "Epoch 24/100\n",
      "18/18 [==============================] - 5s 298ms/step - loss: 1.8095e-04 - val_loss: 0.0010\n",
      "Epoch 25/100\n",
      "18/18 [==============================] - 5s 307ms/step - loss: 1.7807e-04 - val_loss: 0.0020\n",
      "Epoch 26/100\n",
      "18/18 [==============================] - 5s 304ms/step - loss: 1.7293e-04 - val_loss: 9.3941e-04\n",
      "Epoch 27/100\n",
      "18/18 [==============================] - 5s 304ms/step - loss: 1.7623e-04 - val_loss: 0.0019\n",
      "Epoch 28/100\n",
      "18/18 [==============================] - 5s 305ms/step - loss: 1.6643e-04 - val_loss: 0.0016\n",
      "Epoch 29/100\n",
      "18/18 [==============================] - 5s 305ms/step - loss: 1.5917e-04 - val_loss: 0.0038\n",
      "Epoch 30/100\n",
      "18/18 [==============================] - 6s 314ms/step - loss: 1.8247e-04 - val_loss: 9.5700e-04\n",
      "Epoch 31/100\n",
      "18/18 [==============================] - 5s 307ms/step - loss: 1.5518e-04 - val_loss: 9.8518e-04\n",
      "Epoch 32/100\n",
      "18/18 [==============================] - 6s 311ms/step - loss: 1.4897e-04 - val_loss: 0.0012\n",
      "Epoch 33/100\n",
      "18/18 [==============================] - 6s 309ms/step - loss: 1.5461e-04 - val_loss: 8.6915e-04\n",
      "Epoch 34/100\n",
      "18/18 [==============================] - 6s 311ms/step - loss: 1.4903e-04 - val_loss: 0.0016\n",
      "Epoch 35/100\n",
      "18/18 [==============================] - 6s 310ms/step - loss: 1.3759e-04 - val_loss: 0.0012\n",
      "Epoch 36/100\n",
      "18/18 [==============================] - 6s 314ms/step - loss: 1.4644e-04 - val_loss: 8.9129e-04\n",
      "Epoch 37/100\n",
      "18/18 [==============================] - 6s 313ms/step - loss: 1.4963e-04 - val_loss: 0.0022\n",
      "Epoch 38/100\n",
      "18/18 [==============================] - 6s 314ms/step - loss: 1.6731e-04 - val_loss: 0.0017\n",
      "Epoch 39/100\n",
      "18/18 [==============================] - 6s 313ms/step - loss: 1.6890e-04 - val_loss: 0.0012\n",
      "Epoch 40/100\n",
      "18/18 [==============================] - 6s 314ms/step - loss: 1.3714e-04 - val_loss: 0.0012\n",
      "Epoch 41/100\n",
      "18/18 [==============================] - 6s 316ms/step - loss: 1.2846e-04 - val_loss: 8.1747e-04\n",
      "Epoch 42/100\n",
      "18/18 [==============================] - 6s 319ms/step - loss: 1.4207e-04 - val_loss: 0.0015\n",
      "Epoch 43/100\n",
      "18/18 [==============================] - 6s 317ms/step - loss: 1.3753e-04 - val_loss: 0.0018\n",
      "Epoch 44/100\n",
      "18/18 [==============================] - 6s 319ms/step - loss: 1.3118e-04 - val_loss: 8.7719e-04\n",
      "Epoch 45/100\n",
      "18/18 [==============================] - 6s 321ms/step - loss: 1.2730e-04 - val_loss: 0.0021\n",
      "Epoch 46/100\n",
      "18/18 [==============================] - 6s 323ms/step - loss: 1.2698e-04 - val_loss: 9.5094e-04\n",
      "Epoch 47/100\n",
      "18/18 [==============================] - 6s 323ms/step - loss: 1.2382e-04 - val_loss: 0.0012\n",
      "Epoch 48/100\n",
      "18/18 [==============================] - 6s 337ms/step - loss: 1.2240e-04 - val_loss: 6.9685e-04\n",
      "Epoch 49/100\n",
      "18/18 [==============================] - 6s 327ms/step - loss: 1.3755e-04 - val_loss: 0.0013\n",
      "Epoch 50/100\n",
      "18/18 [==============================] - 6s 327ms/step - loss: 1.4582e-04 - val_loss: 0.0011\n",
      "Epoch 51/100\n",
      "18/18 [==============================] - 6s 327ms/step - loss: 1.1825e-04 - val_loss: 0.0012\n",
      "Epoch 52/100\n",
      "18/18 [==============================] - 6s 327ms/step - loss: 1.2543e-04 - val_loss: 9.1890e-04\n",
      "Epoch 53/100\n",
      "18/18 [==============================] - 6s 327ms/step - loss: 1.1404e-04 - val_loss: 6.2881e-04\n",
      "Epoch 54/100\n",
      "18/18 [==============================] - 6s 325ms/step - loss: 1.1114e-04 - val_loss: 6.7551e-04\n",
      "Epoch 55/100\n",
      "18/18 [==============================] - 6s 354ms/step - loss: 1.0866e-04 - val_loss: 7.1037e-04\n",
      "Epoch 56/100\n",
      "18/18 [==============================] - 6s 338ms/step - loss: 1.1195e-04 - val_loss: 6.4089e-04\n",
      "Epoch 57/100\n",
      "18/18 [==============================] - 6s 337ms/step - loss: 1.0554e-04 - val_loss: 0.0013\n",
      "Epoch 58/100\n",
      "18/18 [==============================] - 6s 327ms/step - loss: 1.0613e-04 - val_loss: 6.1823e-04\n",
      "Epoch 59/100\n",
      "18/18 [==============================] - 6s 329ms/step - loss: 1.0948e-04 - val_loss: 0.0015\n",
      "Epoch 60/100\n",
      "18/18 [==============================] - 6s 331ms/step - loss: 1.3085e-04 - val_loss: 6.1711e-04\n",
      "Epoch 61/100\n",
      "18/18 [==============================] - 6s 327ms/step - loss: 1.0214e-04 - val_loss: 0.0016\n",
      "Epoch 62/100\n",
      "18/18 [==============================] - 6s 327ms/step - loss: 1.2078e-04 - val_loss: 8.9155e-04\n",
      "Epoch 63/100\n",
      "18/18 [==============================] - 6s 326ms/step - loss: 1.0885e-04 - val_loss: 6.0309e-04\n",
      "Epoch 64/100\n",
      "18/18 [==============================] - 6s 333ms/step - loss: 1.0101e-04 - val_loss: 6.3589e-04\n",
      "Epoch 65/100\n",
      "18/18 [==============================] - 6s 326ms/step - loss: 9.6967e-05 - val_loss: 7.7433e-04\n",
      "Epoch 66/100\n",
      "18/18 [==============================] - 6s 329ms/step - loss: 1.0954e-04 - val_loss: 5.3037e-04\n",
      "Epoch 67/100\n",
      "18/18 [==============================] - 6s 351ms/step - loss: 1.0962e-04 - val_loss: 0.0015\n",
      "Epoch 68/100\n",
      "18/18 [==============================] - 6s 336ms/step - loss: 9.9981e-05 - val_loss: 5.9958e-04\n",
      "Epoch 69/100\n",
      "18/18 [==============================] - 6s 331ms/step - loss: 9.4591e-05 - val_loss: 8.1191e-04\n",
      "Epoch 70/100\n",
      "18/18 [==============================] - 6s 327ms/step - loss: 9.4271e-05 - val_loss: 4.8280e-04\n",
      "Epoch 71/100\n",
      "18/18 [==============================] - 6s 337ms/step - loss: 9.2530e-05 - val_loss: 0.0012\n",
      "Epoch 72/100\n",
      "18/18 [==============================] - 6s 351ms/step - loss: 9.2050e-05 - val_loss: 0.0019\n",
      "Epoch 73/100\n",
      "18/18 [==============================] - 6s 327ms/step - loss: 1.1658e-04 - val_loss: 7.4594e-04\n",
      "Epoch 74/100\n",
      "18/18 [==============================] - 6s 330ms/step - loss: 8.7579e-05 - val_loss: 6.4224e-04\n",
      "Epoch 75/100\n",
      "18/18 [==============================] - 6s 327ms/step - loss: 8.8355e-05 - val_loss: 4.8712e-04\n",
      "Epoch 76/100\n",
      "18/18 [==============================] - 6s 330ms/step - loss: 1.0363e-04 - val_loss: 0.0013\n",
      "Epoch 77/100\n"
     ]
    },
    {
     "name": "stdout",
     "output_type": "stream",
     "text": [
      "18/18 [==============================] - 6s 327ms/step - loss: 9.8254e-05 - val_loss: 4.3696e-04\n",
      "Epoch 78/100\n",
      "18/18 [==============================] - 6s 330ms/step - loss: 9.8745e-05 - val_loss: 4.5465e-04\n",
      "Epoch 79/100\n",
      "18/18 [==============================] - 6s 347ms/step - loss: 8.8122e-05 - val_loss: 5.0988e-04\n",
      "Epoch 80/100\n",
      "18/18 [==============================] - 6s 330ms/step - loss: 8.6391e-05 - val_loss: 4.2978e-04\n",
      "Epoch 81/100\n",
      "18/18 [==============================] - 6s 330ms/step - loss: 8.6912e-05 - val_loss: 4.4193e-04\n",
      "Epoch 82/100\n",
      "18/18 [==============================] - 6s 332ms/step - loss: 8.4400e-05 - val_loss: 5.3651e-04\n",
      "Epoch 83/100\n",
      "18/18 [==============================] - 6s 327ms/step - loss: 8.2961e-05 - val_loss: 7.6871e-04\n",
      "Epoch 84/100\n",
      "18/18 [==============================] - 6s 329ms/step - loss: 8.2527e-05 - val_loss: 8.0282e-04\n",
      "Epoch 85/100\n",
      "18/18 [==============================] - 6s 329ms/step - loss: 8.8195e-05 - val_loss: 4.5683e-04\n",
      "Epoch 86/100\n",
      "18/18 [==============================] - 6s 329ms/step - loss: 9.4301e-05 - val_loss: 4.3530e-04\n",
      "Epoch 87/100\n",
      "18/18 [==============================] - 6s 331ms/step - loss: 8.2671e-05 - val_loss: 6.0915e-04\n",
      "Epoch 88/100\n",
      "18/18 [==============================] - 6s 328ms/step - loss: 8.0287e-05 - val_loss: 4.0183e-04\n",
      "Epoch 89/100\n",
      "18/18 [==============================] - 6s 332ms/step - loss: 8.1930e-05 - val_loss: 5.3516e-04\n",
      "Epoch 90/100\n",
      "18/18 [==============================] - 6s 332ms/step - loss: 7.7427e-05 - val_loss: 5.7195e-04\n",
      "Epoch 91/100\n",
      "18/18 [==============================] - 6s 330ms/step - loss: 8.1026e-05 - val_loss: 7.5322e-04\n",
      "Epoch 92/100\n",
      "18/18 [==============================] - 6s 339ms/step - loss: 8.6004e-05 - val_loss: 0.0012\n",
      "Epoch 93/100\n",
      "18/18 [==============================] - 6s 330ms/step - loss: 7.7942e-05 - val_loss: 6.8994e-04\n",
      "Epoch 94/100\n",
      "18/18 [==============================] - 6s 329ms/step - loss: 7.3470e-05 - val_loss: 7.7757e-04\n",
      "Epoch 95/100\n",
      "18/18 [==============================] - 6s 331ms/step - loss: 8.0219e-05 - val_loss: 5.3908e-04\n",
      "Epoch 96/100\n",
      "18/18 [==============================] - 6s 331ms/step - loss: 7.1482e-05 - val_loss: 4.0061e-04\n",
      "Epoch 97/100\n",
      "18/18 [==============================] - 6s 330ms/step - loss: 7.1004e-05 - val_loss: 3.3788e-04\n",
      "Epoch 98/100\n",
      "18/18 [==============================] - 6s 329ms/step - loss: 7.1511e-05 - val_loss: 3.3967e-04\n",
      "Epoch 99/100\n",
      "18/18 [==============================] - 6s 336ms/step - loss: 9.0413e-05 - val_loss: 6.8431e-04\n",
      "Epoch 100/100\n",
      "18/18 [==============================] - 7s 381ms/step - loss: 9.7424e-05 - val_loss: 0.0022\n"
     ]
    },
    {
     "data": {
      "text/plain": [
       "<keras.callbacks.History at 0x2b35796f790>"
      ]
     },
     "execution_count": 179,
     "metadata": {},
     "output_type": "execute_result"
    }
   ],
   "source": [
    "model.fit(X_train,y_train,validation_data=(X_test,ytest),epochs=100,batch_size=64,verbose=1)"
   ]
  },
  {
   "cell_type": "code",
   "execution_count": 180,
   "metadata": {},
   "outputs": [
    {
     "data": {
      "text/plain": [
       "'2.8.0'"
      ]
     },
     "execution_count": 180,
     "metadata": {},
     "output_type": "execute_result"
    }
   ],
   "source": [
    "import tensorflow as tf\n",
    "tf.__version__"
   ]
  },
  {
   "cell_type": "code",
   "execution_count": 181,
   "metadata": {},
   "outputs": [],
   "source": [
    "### Lets Do the prediction and check performance metrics\n",
    "train_predict=model.predict(X_train)\n",
    "test_predict=model.predict(X_test)"
   ]
  },
  {
   "cell_type": "code",
   "execution_count": 182,
   "metadata": {},
   "outputs": [],
   "source": [
    "##Transformback to original form\n",
    "train_predict=scaler.inverse_transform(train_predict)\n",
    "test_predict=scaler.inverse_transform(test_predict)"
   ]
  },
  {
   "cell_type": "code",
   "execution_count": 183,
   "metadata": {},
   "outputs": [
    {
     "data": {
      "text/plain": [
       "1166.2911259895222"
      ]
     },
     "execution_count": 183,
     "metadata": {},
     "output_type": "execute_result"
    }
   ],
   "source": [
    "### Calculate RMSE performance metrics\n",
    "import math\n",
    "from sklearn.metrics import mean_squared_error\n",
    "math.sqrt(mean_squared_error(y_train,train_predict))"
   ]
  },
  {
   "cell_type": "code",
   "execution_count": 184,
   "metadata": {},
   "outputs": [
    {
     "data": {
      "text/plain": [
       "2522.8403079402037"
      ]
     },
     "execution_count": 184,
     "metadata": {},
     "output_type": "execute_result"
    }
   ],
   "source": [
    "### Test Data RMSE\n",
    "math.sqrt(mean_squared_error(ytest,test_predict))"
   ]
  },
  {
   "cell_type": "code",
   "execution_count": 194,
   "metadata": {},
   "outputs": [
    {
     "data": {
      "image/png": "[encoded data removed]",
      "text/plain": [
       "<Figure size 432x288 with 1 Axes>"
      ]
     },
     "metadata": {
      "needs_background": "light"
     },
     "output_type": "display_data"
    },
    {
     "data": {
      "text/plain": [
       "<Figure size 2520x1440 with 0 Axes>"
      ]
     },
     "metadata": {},
     "output_type": "display_data"
    }
   ],
   "source": [
    "### Plotting \n",
    "# shift train predictions for plotting\n",
    "look_back=100\n",
    "trainPredictPlot = numpy.empty_like(df1)\n",
    "trainPredictPlot[:, :] = np.nan\n",
    "trainPredictPlot[look_back:len(train_predict)+look_back, :] = train_predict\n",
    "# shift test predictions for plotting\n",
    "testPredictPlot = numpy.empty_like(df1)\n",
    "testPredictPlot[:, :] = numpy.nan\n",
    "testPredictPlot[len(train_predict)+(look_back*2)+1:len(df1)-1, :] = test_predict\n",
    "# plot baseline and predictions\n",
    "plt.plot(scaler.inverse_transform(df1))\n",
    "plt.plot(trainPredictPlot,color=\"red\")\n",
    "plt.plot(testPredictPlot,color='green')\n",
    "plt.figure(figsize=(35,20))\n",
    "plt.show()"
   ]
  },
  {
   "cell_type": "code",
   "execution_count": 195,
   "metadata": {},
   "outputs": [
    {
     "data": {
      "text/plain": [
       "525"
      ]
     },
     "execution_count": 195,
     "metadata": {},
     "output_type": "execute_result"
    }
   ],
   "source": [
    "len(test_data)"
   ]
  },
  {
   "cell_type": "code",
   "execution_count": 200,
   "metadata": {},
   "outputs": [
    {
     "data": {
      "text/plain": [
       "(1, 100)"
      ]
     },
     "execution_count": 200,
     "metadata": {},
     "output_type": "execute_result"
    }
   ],
   "source": [
    "x_input=test_data[425:].reshape(1,-1)\n",
    "x_input.shape"
   ]
  },
  {
   "cell_type": "code",
   "execution_count": 201,
   "metadata": {},
   "outputs": [],
   "source": [
    "temp_input=list(x_input)\n",
    "temp_input=temp_input[0].tolist()"
   ]
  },
  {
   "cell_type": "code",
   "execution_count": 202,
   "metadata": {},
   "outputs": [
    {
     "data": {
      "text/plain": [
       "[0.916705778500894,\n",
       " 0.9200938420204242,\n",
       " 0.9272869444654667,\n",
       " 0.9257058311291614,\n",
       " 0.9221614124743823,\n",
       " 0.9186169938196033,\n",
       " 0.9050473480295759,\n",
       " 0.8941012966587859,\n",
       " 0.9071844001952053,\n",
       " 0.9100686148851759,\n",
       " 0.9111631859678727,\n",
       " 0.9556250722637029,\n",
       " 0.9493874923420601,\n",
       " 0.931682705644116,\n",
       " 0.9119972219157916,\n",
       " 0.8847536652002524,\n",
       " 0.8615411545290556,\n",
       " 0.8697941297689368,\n",
       " 0.8882633855671734,\n",
       " 0.8734949035589649,\n",
       " 0.9008079419861751,\n",
       " 0.9063851476710995,\n",
       " 0.9060898291125082,\n",
       " 0.9120667036274629,\n",
       " 0.9121535770510406,\n",
       " 0.9032230061344441,\n",
       " 0.8836590941175556,\n",
       " 0.8635913332711073,\n",
       " 0.8586743315509916,\n",
       " 0.8004343543301206,\n",
       " 0.793623443867247,\n",
       " 0.7712622757199205,\n",
       " 0.7892450744005041,\n",
       " 0.8326296110536336,\n",
       " 0.8401529006170353,\n",
       " 0.8345235197963913,\n",
       " 0.8420641159357446,\n",
       " 0.8356528743029014,\n",
       " 0.8590391318212539,\n",
       " 0.8550777377604927,\n",
       " 0.8476934967563884,\n",
       " 0.8501780426163287,\n",
       " 0.8373729510625488,\n",
       " 0.8218052165302344,\n",
       " 0.8424463079179135,\n",
       " 0.8583615361445388,\n",
       " 0.8524541433412552,\n",
       " 0.8797497900565591,\n",
       " 0.8785683455502843,\n",
       " 0.8905220945801936,\n",
       " 0.8642168389480577,\n",
       " 0.8542958769482935,\n",
       " 0.8498653323458308,\n",
       " 0.8494657486517555,\n",
       " 0.8498827240577375,\n",
       " 0.8496568020748624,\n",
       " 0.8477455867561531,\n",
       " 0.8624967621884102,\n",
       " 0.838120028450935,\n",
       " 0.8130483924607933,\n",
       " 0.8102858346182135,\n",
       " 0.8374424327742199,\n",
       " 0.8618364730876468,\n",
       " 0.898132172431218,\n",
       " 0.8969855113487565,\n",
       " 0.90311874099896,\n",
       " 0.904665070911452,\n",
       " 0.9035010181170838,\n",
       " 0.8844235632178482,\n",
       " 0.8829467150170275,\n",
       " 0.8940318149471146,\n",
       " 0.8970723847723342,\n",
       " 0.8928328935929785,\n",
       " 0.898705588108404,\n",
       " 0.8943966152173769,\n",
       " 0.927686528159542,\n",
       " 0.9274259078888089,\n",
       " 0.9268177939237651,\n",
       " 0.9328120601506261,\n",
       " 0.9465206693639959,\n",
       " 0.9593432377656371,\n",
       " 0.9827990621316157,\n",
       " 0.9785769626641666,\n",
       " 1.0,\n",
       " 0.9920771267425229,\n",
       " 0.9869515947514388,\n",
       " 0.9887064549348993,\n",
       " 0.9582833649707984,\n",
       " 0.9263660350939699,\n",
       " 0.9313178202378988,\n",
       " 0.9295977434782513,\n",
       " 0.8971765647718634,\n",
       " 0.906211400823944,\n",
       " 0.8952480428772024,\n",
       " 0.8536529795594364,\n",
       " 0.8508557234289987,\n",
       " 0.8403787374639552,\n",
       " 0.8382590770102324,\n",
       " 0.8526452819003173,\n",
       " 0.8679350044499922]"
      ]
     },
     "execution_count": 202,
     "metadata": {},
     "output_type": "execute_result"
    }
   ],
   "source": [
    "temp_input"
   ]
  },
  {
   "cell_type": "code",
   "execution_count": 203,
   "metadata": {},
   "outputs": [
    {
     "name": "stdout",
     "output_type": "stream",
     "text": [
      "[0.8129074]\n",
      "101\n",
      "1 day input [0.92009384 0.92728694 0.92570583 0.92216141 0.91861699 0.90504735\n",
      " 0.8941013  0.9071844  0.91006861 0.91116319 0.95562507 0.94938749\n",
      " 0.93168271 0.91199722 0.88475367 0.86154115 0.86979413 0.88826339\n",
      " 0.8734949  0.90080794 0.90638515 0.90608983 0.9120667  0.91215358\n",
      " 0.90322301 0.88365909 0.86359133 0.85867433 0.80043435 0.79362344\n",
      " 0.77126228 0.78924507 0.83262961 0.8401529  0.83452352 0.84206412\n",
      " 0.83565287 0.85903913 0.85507774 0.8476935  0.85017804 0.83737295\n",
      " 0.82180522 0.84244631 0.85836154 0.85245414 0.87974979 0.87856835\n",
      " 0.89052209 0.86421684 0.85429588 0.84986533 0.84946575 0.84988272\n",
      " 0.8496568  0.84774559 0.86249676 0.83812003 0.81304839 0.81028583\n",
      " 0.83744243 0.86183647 0.89813217 0.89698551 0.90311874 0.90466507\n",
      " 0.90350102 0.88442356 0.88294672 0.89403181 0.89707238 0.89283289\n",
      " 0.89870559 0.89439662 0.92768653 0.92742591 0.92681779 0.93281206\n",
      " 0.94652067 0.95934324 0.98279906 0.97857696 1.         0.99207713\n",
      " 0.98695159 0.98870645 0.95828336 0.92636604 0.93131782 0.92959774\n",
      " 0.89717656 0.9062114  0.89524804 0.85365298 0.85085572 0.84037874\n",
      " 0.83825908 0.85264528 0.867935   0.8129074 ]\n",
      "1 day output [[0.79418015]]\n",
      "2 day input [0.92728694 0.92570583 0.92216141 0.91861699 0.90504735 0.8941013\n",
      " 0.9071844  0.91006861 0.91116319 0.95562507 0.94938749 0.93168271\n",
      " 0.91199722 0.88475367 0.86154115 0.86979413 0.88826339 0.8734949\n",
      " 0.90080794 0.90638515 0.90608983 0.9120667  0.91215358 0.90322301\n",
      " 0.88365909 0.86359133 0.85867433 0.80043435 0.79362344 0.77126228\n",
      " 0.78924507 0.83262961 0.8401529  0.83452352 0.84206412 0.83565287\n",
      " 0.85903913 0.85507774 0.8476935  0.85017804 0.83737295 0.82180522\n",
      " 0.84244631 0.85836154 0.85245414 0.87974979 0.87856835 0.89052209\n",
      " 0.86421684 0.85429588 0.84986533 0.84946575 0.84988272 0.8496568\n",
      " 0.84774559 0.86249676 0.83812003 0.81304839 0.81028583 0.83744243\n",
      " 0.86183647 0.89813217 0.89698551 0.90311874 0.90466507 0.90350102\n",
      " 0.88442356 0.88294672 0.89403181 0.89707238 0.89283289 0.89870559\n",
      " 0.89439662 0.92768653 0.92742591 0.92681779 0.93281206 0.94652067\n",
      " 0.95934324 0.98279906 0.97857696 1.         0.99207713 0.98695159\n",
      " 0.98870645 0.95828336 0.92636604 0.93131782 0.92959774 0.89717656\n",
      " 0.9062114  0.89524804 0.85365298 0.85085572 0.84037874 0.83825908\n",
      " 0.85264528 0.867935   0.8129074  0.79418015]\n",
      "2 day output [[0.7671451]]\n",
      "3 day input [0.92570583 0.92216141 0.91861699 0.90504735 0.8941013  0.9071844\n",
      " 0.91006861 0.91116319 0.95562507 0.94938749 0.93168271 0.91199722\n",
      " 0.88475367 0.86154115 0.86979413 0.88826339 0.8734949  0.90080794\n",
      " 0.90638515 0.90608983 0.9120667  0.91215358 0.90322301 0.88365909\n",
      " 0.86359133 0.85867433 0.80043435 0.79362344 0.77126228 0.78924507\n",
      " 0.83262961 0.8401529  0.83452352 0.84206412 0.83565287 0.85903913\n",
      " 0.85507774 0.8476935  0.85017804 0.83737295 0.82180522 0.84244631\n",
      " 0.85836154 0.85245414 0.87974979 0.87856835 0.89052209 0.86421684\n",
      " 0.85429588 0.84986533 0.84946575 0.84988272 0.8496568  0.84774559\n",
      " 0.86249676 0.83812003 0.81304839 0.81028583 0.83744243 0.86183647\n",
      " 0.89813217 0.89698551 0.90311874 0.90466507 0.90350102 0.88442356\n",
      " 0.88294672 0.89403181 0.89707238 0.89283289 0.89870559 0.89439662\n",
      " 0.92768653 0.92742591 0.92681779 0.93281206 0.94652067 0.95934324\n",
      " 0.98279906 0.97857696 1.         0.99207713 0.98695159 0.98870645\n",
      " 0.95828336 0.92636604 0.93131782 0.92959774 0.89717656 0.9062114\n",
      " 0.89524804 0.85365298 0.85085572 0.84037874 0.83825908 0.85264528\n",
      " 0.867935   0.8129074  0.79418015 0.7671451 ]\n",
      "3 day output [[0.73922074]]\n",
      "4 day input [0.92216141 0.91861699 0.90504735 0.8941013  0.9071844  0.91006861\n",
      " 0.91116319 0.95562507 0.94938749 0.93168271 0.91199722 0.88475367\n",
      " 0.86154115 0.86979413 0.88826339 0.8734949  0.90080794 0.90638515\n",
      " 0.90608983 0.9120667  0.91215358 0.90322301 0.88365909 0.86359133\n",
      " 0.85867433 0.80043435 0.79362344 0.77126228 0.78924507 0.83262961\n",
      " 0.8401529  0.83452352 0.84206412 0.83565287 0.85903913 0.85507774\n",
      " 0.8476935  0.85017804 0.83737295 0.82180522 0.84244631 0.85836154\n",
      " 0.85245414 0.87974979 0.87856835 0.89052209 0.86421684 0.85429588\n",
      " 0.84986533 0.84946575 0.84988272 0.8496568  0.84774559 0.86249676\n",
      " 0.83812003 0.81304839 0.81028583 0.83744243 0.86183647 0.89813217\n",
      " 0.89698551 0.90311874 0.90466507 0.90350102 0.88442356 0.88294672\n",
      " 0.89403181 0.89707238 0.89283289 0.89870559 0.89439662 0.92768653\n",
      " 0.92742591 0.92681779 0.93281206 0.94652067 0.95934324 0.98279906\n",
      " 0.97857696 1.         0.99207713 0.98695159 0.98870645 0.95828336\n",
      " 0.92636604 0.93131782 0.92959774 0.89717656 0.9062114  0.89524804\n",
      " 0.85365298 0.85085572 0.84037874 0.83825908 0.85264528 0.867935\n",
      " 0.8129074  0.79418015 0.7671451  0.73922074]\n",
      "4 day output [[0.7123581]]\n",
      "5 day input [0.91861699 0.90504735 0.8941013  0.9071844  0.91006861 0.91116319\n",
      " 0.95562507 0.94938749 0.93168271 0.91199722 0.88475367 0.86154115\n",
      " 0.86979413 0.88826339 0.8734949  0.90080794 0.90638515 0.90608983\n",
      " 0.9120667  0.91215358 0.90322301 0.88365909 0.86359133 0.85867433\n",
      " 0.80043435 0.79362344 0.77126228 0.78924507 0.83262961 0.8401529\n",
      " 0.83452352 0.84206412 0.83565287 0.85903913 0.85507774 0.8476935\n",
      " 0.85017804 0.83737295 0.82180522 0.84244631 0.85836154 0.85245414\n",
      " 0.87974979 0.87856835 0.89052209 0.86421684 0.85429588 0.84986533\n",
      " 0.84946575 0.84988272 0.8496568  0.84774559 0.86249676 0.83812003\n",
      " 0.81304839 0.81028583 0.83744243 0.86183647 0.89813217 0.89698551\n",
      " 0.90311874 0.90466507 0.90350102 0.88442356 0.88294672 0.89403181\n",
      " 0.89707238 0.89283289 0.89870559 0.89439662 0.92768653 0.92742591\n",
      " 0.92681779 0.93281206 0.94652067 0.95934324 0.98279906 0.97857696\n",
      " 1.         0.99207713 0.98695159 0.98870645 0.95828336 0.92636604\n",
      " 0.93131782 0.92959774 0.89717656 0.9062114  0.89524804 0.85365298\n",
      " 0.85085572 0.84037874 0.83825908 0.85264528 0.867935   0.8129074\n",
      " 0.79418015 0.7671451  0.73922074 0.71235812]\n",
      "5 day output [[0.6874638]]\n",
      "6 day input [0.90504735 0.8941013  0.9071844  0.91006861 0.91116319 0.95562507\n",
      " 0.94938749 0.93168271 0.91199722 0.88475367 0.86154115 0.86979413\n",
      " 0.88826339 0.8734949  0.90080794 0.90638515 0.90608983 0.9120667\n",
      " 0.91215358 0.90322301 0.88365909 0.86359133 0.85867433 0.80043435\n",
      " 0.79362344 0.77126228 0.78924507 0.83262961 0.8401529  0.83452352\n",
      " 0.84206412 0.83565287 0.85903913 0.85507774 0.8476935  0.85017804\n",
      " 0.83737295 0.82180522 0.84244631 0.85836154 0.85245414 0.87974979\n",
      " 0.87856835 0.89052209 0.86421684 0.85429588 0.84986533 0.84946575\n",
      " 0.84988272 0.8496568  0.84774559 0.86249676 0.83812003 0.81304839\n",
      " 0.81028583 0.83744243 0.86183647 0.89813217 0.89698551 0.90311874\n",
      " 0.90466507 0.90350102 0.88442356 0.88294672 0.89403181 0.89707238\n",
      " 0.89283289 0.89870559 0.89439662 0.92768653 0.92742591 0.92681779\n",
      " 0.93281206 0.94652067 0.95934324 0.98279906 0.97857696 1.\n",
      " 0.99207713 0.98695159 0.98870645 0.95828336 0.92636604 0.93131782\n",
      " 0.92959774 0.89717656 0.9062114  0.89524804 0.85365298 0.85085572\n",
      " 0.84037874 0.83825908 0.85264528 0.867935   0.8129074  0.79418015\n",
      " 0.7671451  0.73922074 0.71235812 0.68746382]\n",
      "6 day output [[0.6650336]]\n",
      "7 day input [0.8941013  0.9071844  0.91006861 0.91116319 0.95562507 0.94938749\n",
      " 0.93168271 0.91199722 0.88475367 0.86154115 0.86979413 0.88826339\n",
      " 0.8734949  0.90080794 0.90638515 0.90608983 0.9120667  0.91215358\n",
      " 0.90322301 0.88365909 0.86359133 0.85867433 0.80043435 0.79362344\n",
      " 0.77126228 0.78924507 0.83262961 0.8401529  0.83452352 0.84206412\n",
      " 0.83565287 0.85903913 0.85507774 0.8476935  0.85017804 0.83737295\n",
      " 0.82180522 0.84244631 0.85836154 0.85245414 0.87974979 0.87856835\n",
      " 0.89052209 0.86421684 0.85429588 0.84986533 0.84946575 0.84988272\n",
      " 0.8496568  0.84774559 0.86249676 0.83812003 0.81304839 0.81028583\n",
      " 0.83744243 0.86183647 0.89813217 0.89698551 0.90311874 0.90466507\n",
      " 0.90350102 0.88442356 0.88294672 0.89403181 0.89707238 0.89283289\n",
      " 0.89870559 0.89439662 0.92768653 0.92742591 0.92681779 0.93281206\n",
      " 0.94652067 0.95934324 0.98279906 0.97857696 1.         0.99207713\n",
      " 0.98695159 0.98870645 0.95828336 0.92636604 0.93131782 0.92959774\n",
      " 0.89717656 0.9062114  0.89524804 0.85365298 0.85085572 0.84037874\n",
      " 0.83825908 0.85264528 0.867935   0.8129074  0.79418015 0.7671451\n",
      " 0.73922074 0.71235812 0.68746382 0.66503358]\n",
      "7 day output [[0.6452248]]\n",
      "8 day input [0.9071844  0.91006861 0.91116319 0.95562507 0.94938749 0.93168271\n",
      " 0.91199722 0.88475367 0.86154115 0.86979413 0.88826339 0.8734949\n",
      " 0.90080794 0.90638515 0.90608983 0.9120667  0.91215358 0.90322301\n",
      " 0.88365909 0.86359133 0.85867433 0.80043435 0.79362344 0.77126228\n",
      " 0.78924507 0.83262961 0.8401529  0.83452352 0.84206412 0.83565287\n",
      " 0.85903913 0.85507774 0.8476935  0.85017804 0.83737295 0.82180522\n",
      " 0.84244631 0.85836154 0.85245414 0.87974979 0.87856835 0.89052209\n",
      " 0.86421684 0.85429588 0.84986533 0.84946575 0.84988272 0.8496568\n",
      " 0.84774559 0.86249676 0.83812003 0.81304839 0.81028583 0.83744243\n",
      " 0.86183647 0.89813217 0.89698551 0.90311874 0.90466507 0.90350102\n",
      " 0.88442356 0.88294672 0.89403181 0.89707238 0.89283289 0.89870559\n",
      " 0.89439662 0.92768653 0.92742591 0.92681779 0.93281206 0.94652067\n",
      " 0.95934324 0.98279906 0.97857696 1.         0.99207713 0.98695159\n",
      " 0.98870645 0.95828336 0.92636604 0.93131782 0.92959774 0.89717656\n",
      " 0.9062114  0.89524804 0.85365298 0.85085572 0.84037874 0.83825908\n",
      " 0.85264528 0.867935   0.8129074  0.79418015 0.7671451  0.73922074\n",
      " 0.71235812 0.68746382 0.66503358 0.64522481]\n"
     ]
    },
    {
     "name": "stdout",
     "output_type": "stream",
     "text": [
      "8 day output [[0.6279239]]\n",
      "9 day input [0.91006861 0.91116319 0.95562507 0.94938749 0.93168271 0.91199722\n",
      " 0.88475367 0.86154115 0.86979413 0.88826339 0.8734949  0.90080794\n",
      " 0.90638515 0.90608983 0.9120667  0.91215358 0.90322301 0.88365909\n",
      " 0.86359133 0.85867433 0.80043435 0.79362344 0.77126228 0.78924507\n",
      " 0.83262961 0.8401529  0.83452352 0.84206412 0.83565287 0.85903913\n",
      " 0.85507774 0.8476935  0.85017804 0.83737295 0.82180522 0.84244631\n",
      " 0.85836154 0.85245414 0.87974979 0.87856835 0.89052209 0.86421684\n",
      " 0.85429588 0.84986533 0.84946575 0.84988272 0.8496568  0.84774559\n",
      " 0.86249676 0.83812003 0.81304839 0.81028583 0.83744243 0.86183647\n",
      " 0.89813217 0.89698551 0.90311874 0.90466507 0.90350102 0.88442356\n",
      " 0.88294672 0.89403181 0.89707238 0.89283289 0.89870559 0.89439662\n",
      " 0.92768653 0.92742591 0.92681779 0.93281206 0.94652067 0.95934324\n",
      " 0.98279906 0.97857696 1.         0.99207713 0.98695159 0.98870645\n",
      " 0.95828336 0.92636604 0.93131782 0.92959774 0.89717656 0.9062114\n",
      " 0.89524804 0.85365298 0.85085572 0.84037874 0.83825908 0.85264528\n",
      " 0.867935   0.8129074  0.79418015 0.7671451  0.73922074 0.71235812\n",
      " 0.68746382 0.66503358 0.64522481 0.62792391]\n",
      "9 day output [[0.61282784]]\n",
      "10 day input [0.91116319 0.95562507 0.94938749 0.93168271 0.91199722 0.88475367\n",
      " 0.86154115 0.86979413 0.88826339 0.8734949  0.90080794 0.90638515\n",
      " 0.90608983 0.9120667  0.91215358 0.90322301 0.88365909 0.86359133\n",
      " 0.85867433 0.80043435 0.79362344 0.77126228 0.78924507 0.83262961\n",
      " 0.8401529  0.83452352 0.84206412 0.83565287 0.85903913 0.85507774\n",
      " 0.8476935  0.85017804 0.83737295 0.82180522 0.84244631 0.85836154\n",
      " 0.85245414 0.87974979 0.87856835 0.89052209 0.86421684 0.85429588\n",
      " 0.84986533 0.84946575 0.84988272 0.8496568  0.84774559 0.86249676\n",
      " 0.83812003 0.81304839 0.81028583 0.83744243 0.86183647 0.89813217\n",
      " 0.89698551 0.90311874 0.90466507 0.90350102 0.88442356 0.88294672\n",
      " 0.89403181 0.89707238 0.89283289 0.89870559 0.89439662 0.92768653\n",
      " 0.92742591 0.92681779 0.93281206 0.94652067 0.95934324 0.98279906\n",
      " 0.97857696 1.         0.99207713 0.98695159 0.98870645 0.95828336\n",
      " 0.92636604 0.93131782 0.92959774 0.89717656 0.9062114  0.89524804\n",
      " 0.85365298 0.85085572 0.84037874 0.83825908 0.85264528 0.867935\n",
      " 0.8129074  0.79418015 0.7671451  0.73922074 0.71235812 0.68746382\n",
      " 0.66503358 0.64522481 0.62792391 0.61282784]\n",
      "10 day output [[0.5995221]]\n",
      "11 day input [0.95562507 0.94938749 0.93168271 0.91199722 0.88475367 0.86154115\n",
      " 0.86979413 0.88826339 0.8734949  0.90080794 0.90638515 0.90608983\n",
      " 0.9120667  0.91215358 0.90322301 0.88365909 0.86359133 0.85867433\n",
      " 0.80043435 0.79362344 0.77126228 0.78924507 0.83262961 0.8401529\n",
      " 0.83452352 0.84206412 0.83565287 0.85903913 0.85507774 0.8476935\n",
      " 0.85017804 0.83737295 0.82180522 0.84244631 0.85836154 0.85245414\n",
      " 0.87974979 0.87856835 0.89052209 0.86421684 0.85429588 0.84986533\n",
      " 0.84946575 0.84988272 0.8496568  0.84774559 0.86249676 0.83812003\n",
      " 0.81304839 0.81028583 0.83744243 0.86183647 0.89813217 0.89698551\n",
      " 0.90311874 0.90466507 0.90350102 0.88442356 0.88294672 0.89403181\n",
      " 0.89707238 0.89283289 0.89870559 0.89439662 0.92768653 0.92742591\n",
      " 0.92681779 0.93281206 0.94652067 0.95934324 0.98279906 0.97857696\n",
      " 1.         0.99207713 0.98695159 0.98870645 0.95828336 0.92636604\n",
      " 0.93131782 0.92959774 0.89717656 0.9062114  0.89524804 0.85365298\n",
      " 0.85085572 0.84037874 0.83825908 0.85264528 0.867935   0.8129074\n",
      " 0.79418015 0.7671451  0.73922074 0.71235812 0.68746382 0.66503358\n",
      " 0.64522481 0.62792391 0.61282784 0.59952211]\n",
      "11 day output [[0.58754873]]\n",
      "12 day input [0.94938749 0.93168271 0.91199722 0.88475367 0.86154115 0.86979413\n",
      " 0.88826339 0.8734949  0.90080794 0.90638515 0.90608983 0.9120667\n",
      " 0.91215358 0.90322301 0.88365909 0.86359133 0.85867433 0.80043435\n",
      " 0.79362344 0.77126228 0.78924507 0.83262961 0.8401529  0.83452352\n",
      " 0.84206412 0.83565287 0.85903913 0.85507774 0.8476935  0.85017804\n",
      " 0.83737295 0.82180522 0.84244631 0.85836154 0.85245414 0.87974979\n",
      " 0.87856835 0.89052209 0.86421684 0.85429588 0.84986533 0.84946575\n",
      " 0.84988272 0.8496568  0.84774559 0.86249676 0.83812003 0.81304839\n",
      " 0.81028583 0.83744243 0.86183647 0.89813217 0.89698551 0.90311874\n",
      " 0.90466507 0.90350102 0.88442356 0.88294672 0.89403181 0.89707238\n",
      " 0.89283289 0.89870559 0.89439662 0.92768653 0.92742591 0.92681779\n",
      " 0.93281206 0.94652067 0.95934324 0.98279906 0.97857696 1.\n",
      " 0.99207713 0.98695159 0.98870645 0.95828336 0.92636604 0.93131782\n",
      " 0.92959774 0.89717656 0.9062114  0.89524804 0.85365298 0.85085572\n",
      " 0.84037874 0.83825908 0.85264528 0.867935   0.8129074  0.79418015\n",
      " 0.7671451  0.73922074 0.71235812 0.68746382 0.66503358 0.64522481\n",
      " 0.62792391 0.61282784 0.59952211 0.58754873]\n",
      "12 day output [[0.5764608]]\n",
      "13 day input [0.93168271 0.91199722 0.88475367 0.86154115 0.86979413 0.88826339\n",
      " 0.8734949  0.90080794 0.90638515 0.90608983 0.9120667  0.91215358\n",
      " 0.90322301 0.88365909 0.86359133 0.85867433 0.80043435 0.79362344\n",
      " 0.77126228 0.78924507 0.83262961 0.8401529  0.83452352 0.84206412\n",
      " 0.83565287 0.85903913 0.85507774 0.8476935  0.85017804 0.83737295\n",
      " 0.82180522 0.84244631 0.85836154 0.85245414 0.87974979 0.87856835\n",
      " 0.89052209 0.86421684 0.85429588 0.84986533 0.84946575 0.84988272\n",
      " 0.8496568  0.84774559 0.86249676 0.83812003 0.81304839 0.81028583\n",
      " 0.83744243 0.86183647 0.89813217 0.89698551 0.90311874 0.90466507\n",
      " 0.90350102 0.88442356 0.88294672 0.89403181 0.89707238 0.89283289\n",
      " 0.89870559 0.89439662 0.92768653 0.92742591 0.92681779 0.93281206\n",
      " 0.94652067 0.95934324 0.98279906 0.97857696 1.         0.99207713\n",
      " 0.98695159 0.98870645 0.95828336 0.92636604 0.93131782 0.92959774\n",
      " 0.89717656 0.9062114  0.89524804 0.85365298 0.85085572 0.84037874\n",
      " 0.83825908 0.85264528 0.867935   0.8129074  0.79418015 0.7671451\n",
      " 0.73922074 0.71235812 0.68746382 0.66503358 0.64522481 0.62792391\n",
      " 0.61282784 0.59952211 0.58754873 0.57646078]\n",
      "13 day output [[0.56586164]]\n",
      "14 day input [0.91199722 0.88475367 0.86154115 0.86979413 0.88826339 0.8734949\n",
      " 0.90080794 0.90638515 0.90608983 0.9120667  0.91215358 0.90322301\n",
      " 0.88365909 0.86359133 0.85867433 0.80043435 0.79362344 0.77126228\n",
      " 0.78924507 0.83262961 0.8401529  0.83452352 0.84206412 0.83565287\n",
      " 0.85903913 0.85507774 0.8476935  0.85017804 0.83737295 0.82180522\n",
      " 0.84244631 0.85836154 0.85245414 0.87974979 0.87856835 0.89052209\n",
      " 0.86421684 0.85429588 0.84986533 0.84946575 0.84988272 0.8496568\n",
      " 0.84774559 0.86249676 0.83812003 0.81304839 0.81028583 0.83744243\n",
      " 0.86183647 0.89813217 0.89698551 0.90311874 0.90466507 0.90350102\n",
      " 0.88442356 0.88294672 0.89403181 0.89707238 0.89283289 0.89870559\n",
      " 0.89439662 0.92768653 0.92742591 0.92681779 0.93281206 0.94652067\n",
      " 0.95934324 0.98279906 0.97857696 1.         0.99207713 0.98695159\n",
      " 0.98870645 0.95828336 0.92636604 0.93131782 0.92959774 0.89717656\n",
      " 0.9062114  0.89524804 0.85365298 0.85085572 0.84037874 0.83825908\n",
      " 0.85264528 0.867935   0.8129074  0.79418015 0.7671451  0.73922074\n",
      " 0.71235812 0.68746382 0.66503358 0.64522481 0.62792391 0.61282784\n",
      " 0.59952211 0.58754873 0.57646078 0.56586164]\n",
      "14 day output [[0.55543244]]\n",
      "15 day input [0.88475367 0.86154115 0.86979413 0.88826339 0.8734949  0.90080794\n",
      " 0.90638515 0.90608983 0.9120667  0.91215358 0.90322301 0.88365909\n",
      " 0.86359133 0.85867433 0.80043435 0.79362344 0.77126228 0.78924507\n",
      " 0.83262961 0.8401529  0.83452352 0.84206412 0.83565287 0.85903913\n",
      " 0.85507774 0.8476935  0.85017804 0.83737295 0.82180522 0.84244631\n",
      " 0.85836154 0.85245414 0.87974979 0.87856835 0.89052209 0.86421684\n",
      " 0.85429588 0.84986533 0.84946575 0.84988272 0.8496568  0.84774559\n",
      " 0.86249676 0.83812003 0.81304839 0.81028583 0.83744243 0.86183647\n",
      " 0.89813217 0.89698551 0.90311874 0.90466507 0.90350102 0.88442356\n",
      " 0.88294672 0.89403181 0.89707238 0.89283289 0.89870559 0.89439662\n",
      " 0.92768653 0.92742591 0.92681779 0.93281206 0.94652067 0.95934324\n",
      " 0.98279906 0.97857696 1.         0.99207713 0.98695159 0.98870645\n",
      " 0.95828336 0.92636604 0.93131782 0.92959774 0.89717656 0.9062114\n",
      " 0.89524804 0.85365298 0.85085572 0.84037874 0.83825908 0.85264528\n",
      " 0.867935   0.8129074  0.79418015 0.7671451  0.73922074 0.71235812\n",
      " 0.68746382 0.66503358 0.64522481 0.62792391 0.61282784 0.59952211\n",
      " 0.58754873 0.57646078 0.56586164 0.55543244]\n",
      "15 day output [[0.5449434]]\n",
      "16 day input [0.86154115 0.86979413 0.88826339 0.8734949  0.90080794 0.90638515\n",
      " 0.90608983 0.9120667  0.91215358 0.90322301 0.88365909 0.86359133\n",
      " 0.85867433 0.80043435 0.79362344 0.77126228 0.78924507 0.83262961\n",
      " 0.8401529  0.83452352 0.84206412 0.83565287 0.85903913 0.85507774\n",
      " 0.8476935  0.85017804 0.83737295 0.82180522 0.84244631 0.85836154\n",
      " 0.85245414 0.87974979 0.87856835 0.89052209 0.86421684 0.85429588\n",
      " 0.84986533 0.84946575 0.84988272 0.8496568  0.84774559 0.86249676\n",
      " 0.83812003 0.81304839 0.81028583 0.83744243 0.86183647 0.89813217\n",
      " 0.89698551 0.90311874 0.90466507 0.90350102 0.88442356 0.88294672\n",
      " 0.89403181 0.89707238 0.89283289 0.89870559 0.89439662 0.92768653\n",
      " 0.92742591 0.92681779 0.93281206 0.94652067 0.95934324 0.98279906\n",
      " 0.97857696 1.         0.99207713 0.98695159 0.98870645 0.95828336\n",
      " 0.92636604 0.93131782 0.92959774 0.89717656 0.9062114  0.89524804\n",
      " 0.85365298 0.85085572 0.84037874 0.83825908 0.85264528 0.867935\n",
      " 0.8129074  0.79418015 0.7671451  0.73922074 0.71235812 0.68746382\n",
      " 0.66503358 0.64522481 0.62792391 0.61282784 0.59952211 0.58754873\n",
      " 0.57646078 0.56586164 0.55543244 0.54494339]\n"
     ]
    },
    {
     "name": "stdout",
     "output_type": "stream",
     "text": [
      "16 day output [[0.53425556]]\n",
      "17 day input [0.86979413 0.88826339 0.8734949  0.90080794 0.90638515 0.90608983\n",
      " 0.9120667  0.91215358 0.90322301 0.88365909 0.86359133 0.85867433\n",
      " 0.80043435 0.79362344 0.77126228 0.78924507 0.83262961 0.8401529\n",
      " 0.83452352 0.84206412 0.83565287 0.85903913 0.85507774 0.8476935\n",
      " 0.85017804 0.83737295 0.82180522 0.84244631 0.85836154 0.85245414\n",
      " 0.87974979 0.87856835 0.89052209 0.86421684 0.85429588 0.84986533\n",
      " 0.84946575 0.84988272 0.8496568  0.84774559 0.86249676 0.83812003\n",
      " 0.81304839 0.81028583 0.83744243 0.86183647 0.89813217 0.89698551\n",
      " 0.90311874 0.90466507 0.90350102 0.88442356 0.88294672 0.89403181\n",
      " 0.89707238 0.89283289 0.89870559 0.89439662 0.92768653 0.92742591\n",
      " 0.92681779 0.93281206 0.94652067 0.95934324 0.98279906 0.97857696\n",
      " 1.         0.99207713 0.98695159 0.98870645 0.95828336 0.92636604\n",
      " 0.93131782 0.92959774 0.89717656 0.9062114  0.89524804 0.85365298\n",
      " 0.85085572 0.84037874 0.83825908 0.85264528 0.867935   0.8129074\n",
      " 0.79418015 0.7671451  0.73922074 0.71235812 0.68746382 0.66503358\n",
      " 0.64522481 0.62792391 0.61282784 0.59952211 0.58754873 0.57646078\n",
      " 0.56586164 0.55543244 0.54494339 0.53425556]\n",
      "17 day output [[0.5233135]]\n",
      "18 day input [0.88826339 0.8734949  0.90080794 0.90638515 0.90608983 0.9120667\n",
      " 0.91215358 0.90322301 0.88365909 0.86359133 0.85867433 0.80043435\n",
      " 0.79362344 0.77126228 0.78924507 0.83262961 0.8401529  0.83452352\n",
      " 0.84206412 0.83565287 0.85903913 0.85507774 0.8476935  0.85017804\n",
      " 0.83737295 0.82180522 0.84244631 0.85836154 0.85245414 0.87974979\n",
      " 0.87856835 0.89052209 0.86421684 0.85429588 0.84986533 0.84946575\n",
      " 0.84988272 0.8496568  0.84774559 0.86249676 0.83812003 0.81304839\n",
      " 0.81028583 0.83744243 0.86183647 0.89813217 0.89698551 0.90311874\n",
      " 0.90466507 0.90350102 0.88442356 0.88294672 0.89403181 0.89707238\n",
      " 0.89283289 0.89870559 0.89439662 0.92768653 0.92742591 0.92681779\n",
      " 0.93281206 0.94652067 0.95934324 0.98279906 0.97857696 1.\n",
      " 0.99207713 0.98695159 0.98870645 0.95828336 0.92636604 0.93131782\n",
      " 0.92959774 0.89717656 0.9062114  0.89524804 0.85365298 0.85085572\n",
      " 0.84037874 0.83825908 0.85264528 0.867935   0.8129074  0.79418015\n",
      " 0.7671451  0.73922074 0.71235812 0.68746382 0.66503358 0.64522481\n",
      " 0.62792391 0.61282784 0.59952211 0.58754873 0.57646078 0.56586164\n",
      " 0.55543244 0.54494339 0.53425556 0.52331352]\n",
      "18 day output [[0.51212966]]\n",
      "19 day input [0.8734949  0.90080794 0.90638515 0.90608983 0.9120667  0.91215358\n",
      " 0.90322301 0.88365909 0.86359133 0.85867433 0.80043435 0.79362344\n",
      " 0.77126228 0.78924507 0.83262961 0.8401529  0.83452352 0.84206412\n",
      " 0.83565287 0.85903913 0.85507774 0.8476935  0.85017804 0.83737295\n",
      " 0.82180522 0.84244631 0.85836154 0.85245414 0.87974979 0.87856835\n",
      " 0.89052209 0.86421684 0.85429588 0.84986533 0.84946575 0.84988272\n",
      " 0.8496568  0.84774559 0.86249676 0.83812003 0.81304839 0.81028583\n",
      " 0.83744243 0.86183647 0.89813217 0.89698551 0.90311874 0.90466507\n",
      " 0.90350102 0.88442356 0.88294672 0.89403181 0.89707238 0.89283289\n",
      " 0.89870559 0.89439662 0.92768653 0.92742591 0.92681779 0.93281206\n",
      " 0.94652067 0.95934324 0.98279906 0.97857696 1.         0.99207713\n",
      " 0.98695159 0.98870645 0.95828336 0.92636604 0.93131782 0.92959774\n",
      " 0.89717656 0.9062114  0.89524804 0.85365298 0.85085572 0.84037874\n",
      " 0.83825908 0.85264528 0.867935   0.8129074  0.79418015 0.7671451\n",
      " 0.73922074 0.71235812 0.68746382 0.66503358 0.64522481 0.62792391\n",
      " 0.61282784 0.59952211 0.58754873 0.57646078 0.56586164 0.55543244\n",
      " 0.54494339 0.53425556 0.52331352 0.51212966]\n",
      "19 day output [[0.5007664]]\n",
      "20 day input [0.90080794 0.90638515 0.90608983 0.9120667  0.91215358 0.90322301\n",
      " 0.88365909 0.86359133 0.85867433 0.80043435 0.79362344 0.77126228\n",
      " 0.78924507 0.83262961 0.8401529  0.83452352 0.84206412 0.83565287\n",
      " 0.85903913 0.85507774 0.8476935  0.85017804 0.83737295 0.82180522\n",
      " 0.84244631 0.85836154 0.85245414 0.87974979 0.87856835 0.89052209\n",
      " 0.86421684 0.85429588 0.84986533 0.84946575 0.84988272 0.8496568\n",
      " 0.84774559 0.86249676 0.83812003 0.81304839 0.81028583 0.83744243\n",
      " 0.86183647 0.89813217 0.89698551 0.90311874 0.90466507 0.90350102\n",
      " 0.88442356 0.88294672 0.89403181 0.89707238 0.89283289 0.89870559\n",
      " 0.89439662 0.92768653 0.92742591 0.92681779 0.93281206 0.94652067\n",
      " 0.95934324 0.98279906 0.97857696 1.         0.99207713 0.98695159\n",
      " 0.98870645 0.95828336 0.92636604 0.93131782 0.92959774 0.89717656\n",
      " 0.9062114  0.89524804 0.85365298 0.85085572 0.84037874 0.83825908\n",
      " 0.85264528 0.867935   0.8129074  0.79418015 0.7671451  0.73922074\n",
      " 0.71235812 0.68746382 0.66503358 0.64522481 0.62792391 0.61282784\n",
      " 0.59952211 0.58754873 0.57646078 0.56586164 0.55543244 0.54494339\n",
      " 0.53425556 0.52331352 0.51212966 0.5007664 ]\n",
      "20 day output [[0.48931703]]\n",
      "21 day input [0.90638515 0.90608983 0.9120667  0.91215358 0.90322301 0.88365909\n",
      " 0.86359133 0.85867433 0.80043435 0.79362344 0.77126228 0.78924507\n",
      " 0.83262961 0.8401529  0.83452352 0.84206412 0.83565287 0.85903913\n",
      " 0.85507774 0.8476935  0.85017804 0.83737295 0.82180522 0.84244631\n",
      " 0.85836154 0.85245414 0.87974979 0.87856835 0.89052209 0.86421684\n",
      " 0.85429588 0.84986533 0.84946575 0.84988272 0.8496568  0.84774559\n",
      " 0.86249676 0.83812003 0.81304839 0.81028583 0.83744243 0.86183647\n",
      " 0.89813217 0.89698551 0.90311874 0.90466507 0.90350102 0.88442356\n",
      " 0.88294672 0.89403181 0.89707238 0.89283289 0.89870559 0.89439662\n",
      " 0.92768653 0.92742591 0.92681779 0.93281206 0.94652067 0.95934324\n",
      " 0.98279906 0.97857696 1.         0.99207713 0.98695159 0.98870645\n",
      " 0.95828336 0.92636604 0.93131782 0.92959774 0.89717656 0.9062114\n",
      " 0.89524804 0.85365298 0.85085572 0.84037874 0.83825908 0.85264528\n",
      " 0.867935   0.8129074  0.79418015 0.7671451  0.73922074 0.71235812\n",
      " 0.68746382 0.66503358 0.64522481 0.62792391 0.61282784 0.59952211\n",
      " 0.58754873 0.57646078 0.56586164 0.55543244 0.54494339 0.53425556\n",
      " 0.52331352 0.51212966 0.5007664  0.48931703]\n",
      "21 day output [[0.47788858]]\n",
      "22 day input [0.90608983 0.9120667  0.91215358 0.90322301 0.88365909 0.86359133\n",
      " 0.85867433 0.80043435 0.79362344 0.77126228 0.78924507 0.83262961\n",
      " 0.8401529  0.83452352 0.84206412 0.83565287 0.85903913 0.85507774\n",
      " 0.8476935  0.85017804 0.83737295 0.82180522 0.84244631 0.85836154\n",
      " 0.85245414 0.87974979 0.87856835 0.89052209 0.86421684 0.85429588\n",
      " 0.84986533 0.84946575 0.84988272 0.8496568  0.84774559 0.86249676\n",
      " 0.83812003 0.81304839 0.81028583 0.83744243 0.86183647 0.89813217\n",
      " 0.89698551 0.90311874 0.90466507 0.90350102 0.88442356 0.88294672\n",
      " 0.89403181 0.89707238 0.89283289 0.89870559 0.89439662 0.92768653\n",
      " 0.92742591 0.92681779 0.93281206 0.94652067 0.95934324 0.98279906\n",
      " 0.97857696 1.         0.99207713 0.98695159 0.98870645 0.95828336\n",
      " 0.92636604 0.93131782 0.92959774 0.89717656 0.9062114  0.89524804\n",
      " 0.85365298 0.85085572 0.84037874 0.83825908 0.85264528 0.867935\n",
      " 0.8129074  0.79418015 0.7671451  0.73922074 0.71235812 0.68746382\n",
      " 0.66503358 0.64522481 0.62792391 0.61282784 0.59952211 0.58754873\n",
      " 0.57646078 0.56586164 0.55543244 0.54494339 0.53425556 0.52331352\n",
      " 0.51212966 0.5007664  0.48931703 0.47788858]\n",
      "22 day output [[0.46658608]]\n",
      "23 day input [0.9120667  0.91215358 0.90322301 0.88365909 0.86359133 0.85867433\n",
      " 0.80043435 0.79362344 0.77126228 0.78924507 0.83262961 0.8401529\n",
      " 0.83452352 0.84206412 0.83565287 0.85903913 0.85507774 0.8476935\n",
      " 0.85017804 0.83737295 0.82180522 0.84244631 0.85836154 0.85245414\n",
      " 0.87974979 0.87856835 0.89052209 0.86421684 0.85429588 0.84986533\n",
      " 0.84946575 0.84988272 0.8496568  0.84774559 0.86249676 0.83812003\n",
      " 0.81304839 0.81028583 0.83744243 0.86183647 0.89813217 0.89698551\n",
      " 0.90311874 0.90466507 0.90350102 0.88442356 0.88294672 0.89403181\n",
      " 0.89707238 0.89283289 0.89870559 0.89439662 0.92768653 0.92742591\n",
      " 0.92681779 0.93281206 0.94652067 0.95934324 0.98279906 0.97857696\n",
      " 1.         0.99207713 0.98695159 0.98870645 0.95828336 0.92636604\n",
      " 0.93131782 0.92959774 0.89717656 0.9062114  0.89524804 0.85365298\n",
      " 0.85085572 0.84037874 0.83825908 0.85264528 0.867935   0.8129074\n",
      " 0.79418015 0.7671451  0.73922074 0.71235812 0.68746382 0.66503358\n",
      " 0.64522481 0.62792391 0.61282784 0.59952211 0.58754873 0.57646078\n",
      " 0.56586164 0.55543244 0.54494339 0.53425556 0.52331352 0.51212966\n",
      " 0.5007664  0.48931703 0.47788858 0.46658608]\n",
      "23 day output [[0.45550242]]\n",
      "24 day input [0.91215358 0.90322301 0.88365909 0.86359133 0.85867433 0.80043435\n",
      " 0.79362344 0.77126228 0.78924507 0.83262961 0.8401529  0.83452352\n",
      " 0.84206412 0.83565287 0.85903913 0.85507774 0.8476935  0.85017804\n",
      " 0.83737295 0.82180522 0.84244631 0.85836154 0.85245414 0.87974979\n",
      " 0.87856835 0.89052209 0.86421684 0.85429588 0.84986533 0.84946575\n",
      " 0.84988272 0.8496568  0.84774559 0.86249676 0.83812003 0.81304839\n",
      " 0.81028583 0.83744243 0.86183647 0.89813217 0.89698551 0.90311874\n",
      " 0.90466507 0.90350102 0.88442356 0.88294672 0.89403181 0.89707238\n",
      " 0.89283289 0.89870559 0.89439662 0.92768653 0.92742591 0.92681779\n",
      " 0.93281206 0.94652067 0.95934324 0.98279906 0.97857696 1.\n",
      " 0.99207713 0.98695159 0.98870645 0.95828336 0.92636604 0.93131782\n",
      " 0.92959774 0.89717656 0.9062114  0.89524804 0.85365298 0.85085572\n",
      " 0.84037874 0.83825908 0.85264528 0.867935   0.8129074  0.79418015\n",
      " 0.7671451  0.73922074 0.71235812 0.68746382 0.66503358 0.64522481\n",
      " 0.62792391 0.61282784 0.59952211 0.58754873 0.57646078 0.56586164\n",
      " 0.55543244 0.54494339 0.53425556 0.52331352 0.51212966 0.5007664\n",
      " 0.48931703 0.47788858 0.46658608 0.45550242]\n",
      "24 day output [[0.4447114]]\n",
      "25 day input [0.90322301 0.88365909 0.86359133 0.85867433 0.80043435 0.79362344\n",
      " 0.77126228 0.78924507 0.83262961 0.8401529  0.83452352 0.84206412\n",
      " 0.83565287 0.85903913 0.85507774 0.8476935  0.85017804 0.83737295\n",
      " 0.82180522 0.84244631 0.85836154 0.85245414 0.87974979 0.87856835\n",
      " 0.89052209 0.86421684 0.85429588 0.84986533 0.84946575 0.84988272\n",
      " 0.8496568  0.84774559 0.86249676 0.83812003 0.81304839 0.81028583\n",
      " 0.83744243 0.86183647 0.89813217 0.89698551 0.90311874 0.90466507\n",
      " 0.90350102 0.88442356 0.88294672 0.89403181 0.89707238 0.89283289\n",
      " 0.89870559 0.89439662 0.92768653 0.92742591 0.92681779 0.93281206\n",
      " 0.94652067 0.95934324 0.98279906 0.97857696 1.         0.99207713\n",
      " 0.98695159 0.98870645 0.95828336 0.92636604 0.93131782 0.92959774\n",
      " 0.89717656 0.9062114  0.89524804 0.85365298 0.85085572 0.84037874\n",
      " 0.83825908 0.85264528 0.867935   0.8129074  0.79418015 0.7671451\n",
      " 0.73922074 0.71235812 0.68746382 0.66503358 0.64522481 0.62792391\n",
      " 0.61282784 0.59952211 0.58754873 0.57646078 0.56586164 0.55543244\n",
      " 0.54494339 0.53425556 0.52331352 0.51212966 0.5007664  0.48931703\n",
      " 0.47788858 0.46658608 0.45550242 0.44471139]\n"
     ]
    },
    {
     "name": "stdout",
     "output_type": "stream",
     "text": [
      "25 day output [[0.43426415]]\n",
      "26 day input [0.88365909 0.86359133 0.85867433 0.80043435 0.79362344 0.77126228\n",
      " 0.78924507 0.83262961 0.8401529  0.83452352 0.84206412 0.83565287\n",
      " 0.85903913 0.85507774 0.8476935  0.85017804 0.83737295 0.82180522\n",
      " 0.84244631 0.85836154 0.85245414 0.87974979 0.87856835 0.89052209\n",
      " 0.86421684 0.85429588 0.84986533 0.84946575 0.84988272 0.8496568\n",
      " 0.84774559 0.86249676 0.83812003 0.81304839 0.81028583 0.83744243\n",
      " 0.86183647 0.89813217 0.89698551 0.90311874 0.90466507 0.90350102\n",
      " 0.88442356 0.88294672 0.89403181 0.89707238 0.89283289 0.89870559\n",
      " 0.89439662 0.92768653 0.92742591 0.92681779 0.93281206 0.94652067\n",
      " 0.95934324 0.98279906 0.97857696 1.         0.99207713 0.98695159\n",
      " 0.98870645 0.95828336 0.92636604 0.93131782 0.92959774 0.89717656\n",
      " 0.9062114  0.89524804 0.85365298 0.85085572 0.84037874 0.83825908\n",
      " 0.85264528 0.867935   0.8129074  0.79418015 0.7671451  0.73922074\n",
      " 0.71235812 0.68746382 0.66503358 0.64522481 0.62792391 0.61282784\n",
      " 0.59952211 0.58754873 0.57646078 0.56586164 0.55543244 0.54494339\n",
      " 0.53425556 0.52331352 0.51212966 0.5007664  0.48931703 0.47788858\n",
      " 0.46658608 0.45550242 0.44471139 0.43426415]\n",
      "26 day output [[0.42418948]]\n",
      "27 day input [0.86359133 0.85867433 0.80043435 0.79362344 0.77126228 0.78924507\n",
      " 0.83262961 0.8401529  0.83452352 0.84206412 0.83565287 0.85903913\n",
      " 0.85507774 0.8476935  0.85017804 0.83737295 0.82180522 0.84244631\n",
      " 0.85836154 0.85245414 0.87974979 0.87856835 0.89052209 0.86421684\n",
      " 0.85429588 0.84986533 0.84946575 0.84988272 0.8496568  0.84774559\n",
      " 0.86249676 0.83812003 0.81304839 0.81028583 0.83744243 0.86183647\n",
      " 0.89813217 0.89698551 0.90311874 0.90466507 0.90350102 0.88442356\n",
      " 0.88294672 0.89403181 0.89707238 0.89283289 0.89870559 0.89439662\n",
      " 0.92768653 0.92742591 0.92681779 0.93281206 0.94652067 0.95934324\n",
      " 0.98279906 0.97857696 1.         0.99207713 0.98695159 0.98870645\n",
      " 0.95828336 0.92636604 0.93131782 0.92959774 0.89717656 0.9062114\n",
      " 0.89524804 0.85365298 0.85085572 0.84037874 0.83825908 0.85264528\n",
      " 0.867935   0.8129074  0.79418015 0.7671451  0.73922074 0.71235812\n",
      " 0.68746382 0.66503358 0.64522481 0.62792391 0.61282784 0.59952211\n",
      " 0.58754873 0.57646078 0.56586164 0.55543244 0.54494339 0.53425556\n",
      " 0.52331352 0.51212966 0.5007664  0.48931703 0.47788858 0.46658608\n",
      " 0.45550242 0.44471139 0.43426415 0.42418948]\n",
      "27 day output [[0.41449562]]\n",
      "28 day input [0.85867433 0.80043435 0.79362344 0.77126228 0.78924507 0.83262961\n",
      " 0.8401529  0.83452352 0.84206412 0.83565287 0.85903913 0.85507774\n",
      " 0.8476935  0.85017804 0.83737295 0.82180522 0.84244631 0.85836154\n",
      " 0.85245414 0.87974979 0.87856835 0.89052209 0.86421684 0.85429588\n",
      " 0.84986533 0.84946575 0.84988272 0.8496568  0.84774559 0.86249676\n",
      " 0.83812003 0.81304839 0.81028583 0.83744243 0.86183647 0.89813217\n",
      " 0.89698551 0.90311874 0.90466507 0.90350102 0.88442356 0.88294672\n",
      " 0.89403181 0.89707238 0.89283289 0.89870559 0.89439662 0.92768653\n",
      " 0.92742591 0.92681779 0.93281206 0.94652067 0.95934324 0.98279906\n",
      " 0.97857696 1.         0.99207713 0.98695159 0.98870645 0.95828336\n",
      " 0.92636604 0.93131782 0.92959774 0.89717656 0.9062114  0.89524804\n",
      " 0.85365298 0.85085572 0.84037874 0.83825908 0.85264528 0.867935\n",
      " 0.8129074  0.79418015 0.7671451  0.73922074 0.71235812 0.68746382\n",
      " 0.66503358 0.64522481 0.62792391 0.61282784 0.59952211 0.58754873\n",
      " 0.57646078 0.56586164 0.55543244 0.54494339 0.53425556 0.52331352\n",
      " 0.51212966 0.5007664  0.48931703 0.47788858 0.46658608 0.45550242\n",
      " 0.44471139 0.43426415 0.42418948 0.41449562]\n",
      "28 day output [[0.4051739]]\n",
      "29 day input [0.80043435 0.79362344 0.77126228 0.78924507 0.83262961 0.8401529\n",
      " 0.83452352 0.84206412 0.83565287 0.85903913 0.85507774 0.8476935\n",
      " 0.85017804 0.83737295 0.82180522 0.84244631 0.85836154 0.85245414\n",
      " 0.87974979 0.87856835 0.89052209 0.86421684 0.85429588 0.84986533\n",
      " 0.84946575 0.84988272 0.8496568  0.84774559 0.86249676 0.83812003\n",
      " 0.81304839 0.81028583 0.83744243 0.86183647 0.89813217 0.89698551\n",
      " 0.90311874 0.90466507 0.90350102 0.88442356 0.88294672 0.89403181\n",
      " 0.89707238 0.89283289 0.89870559 0.89439662 0.92768653 0.92742591\n",
      " 0.92681779 0.93281206 0.94652067 0.95934324 0.98279906 0.97857696\n",
      " 1.         0.99207713 0.98695159 0.98870645 0.95828336 0.92636604\n",
      " 0.93131782 0.92959774 0.89717656 0.9062114  0.89524804 0.85365298\n",
      " 0.85085572 0.84037874 0.83825908 0.85264528 0.867935   0.8129074\n",
      " 0.79418015 0.7671451  0.73922074 0.71235812 0.68746382 0.66503358\n",
      " 0.64522481 0.62792391 0.61282784 0.59952211 0.58754873 0.57646078\n",
      " 0.56586164 0.55543244 0.54494339 0.53425556 0.52331352 0.51212966\n",
      " 0.5007664  0.48931703 0.47788858 0.46658608 0.45550242 0.44471139\n",
      " 0.43426415 0.42418948 0.41449562 0.4051739 ]\n",
      "29 day output [[0.3962029]]\n",
      "[[0.8129073977470398], [0.794180154800415], [0.7671450972557068], [0.7392207384109497], [0.7123581171035767], [0.6874638199806213], [0.6650335788726807], [0.6452248096466064], [0.6279239058494568], [0.6128278374671936], [0.5995221138000488], [0.5875487327575684], [0.5764607787132263], [0.5658616423606873], [0.5554324388504028], [0.5449433922767639], [0.5342555642127991], [0.5233135223388672], [0.5121296644210815], [0.500766396522522], [0.48931702971458435], [0.4778885841369629], [0.46658608317375183], [0.4555024206638336], [0.4447113871574402], [0.4342641532421112], [0.4241894781589508], [0.4144956171512604], [0.4051738977432251], [0.3962028920650482]]\n"
     ]
    }
   ],
   "source": [
    "# demonstrate prediction for next 10 days\n",
    "from numpy import array\n",
    "\n",
    "lst_output=[]\n",
    "n_steps=100\n",
    "i=0\n",
    "while(i<30):\n",
    "    \n",
    "    if(len(temp_input)>100):\n",
    "        #print(temp_input)\n",
    "        x_input=np.array(temp_input[1:])\n",
    "        print(\"{} day input {}\".format(i,x_input))\n",
    "        x_input=x_input.reshape(1,-1)\n",
    "        x_input = x_input.reshape((1, n_steps, 1))\n",
    "        #print(x_input)\n",
    "        yhat = model.predict(x_input, verbose=0)\n",
    "        print(\"{} day output {}\".format(i,yhat))\n",
    "        temp_input.extend(yhat[0].tolist())\n",
    "        temp_input=temp_input[1:]\n",
    "        #print(temp_input)\n",
    "        lst_output.extend(yhat.tolist())\n",
    "        i=i+1\n",
    "    else:\n",
    "        x_input = x_input.reshape((1, n_steps,1))\n",
    "        yhat = model.predict(x_input, verbose=0)\n",
    "        print(yhat[0])\n",
    "        temp_input.extend(yhat[0].tolist())\n",
    "        print(len(temp_input))\n",
    "        lst_output.extend(yhat.tolist())\n",
    "        i=i+1\n",
    "    \n",
    "\n",
    "print(lst_output)"
   ]
  },
  {
   "cell_type": "code",
   "execution_count": 204,
   "metadata": {},
   "outputs": [],
   "source": [
    "day_new=np.arange(1,101)\n",
    "day_pred=np.arange(101,131)"
   ]
  },
  {
   "cell_type": "code",
   "execution_count": 208,
   "metadata": {},
   "outputs": [
    {
     "data": {
      "text/plain": [
       "1749"
      ]
     },
     "execution_count": 208,
     "metadata": {},
     "output_type": "execute_result"
    }
   ],
   "source": [
    "len(df1)"
   ]
  },
  {
   "cell_type": "code",
   "execution_count": 209,
   "metadata": {},
   "outputs": [
    {
     "data": {
      "text/plain": [
       "[<matplotlib.lines.Line2D at 0x2b35b5d7c70>]"
      ]
     },
     "execution_count": 209,
     "metadata": {},
     "output_type": "execute_result"
    },
    {
     "data": {
      "image/png": "[encoded data removed]",
      "text/plain": [
       "<Figure size 432x288 with 1 Axes>"
      ]
     },
     "metadata": {
      "needs_background": "light"
     },
     "output_type": "display_data"
    }
   ],
   "source": [
    "plt.plot(day_new,scaler.inverse_transform(df1[1649:]))\n",
    "plt.plot(day_pred,scaler.inverse_transform(lst_output))"
   ]
  },
  {
   "cell_type": "code",
   "execution_count": 210,
   "metadata": {},
   "outputs": [
    {
     "data": {
      "text/plain": [
       "[<matplotlib.lines.Line2D at 0x2b35b652b20>]"
      ]
     },
     "execution_count": 210,
     "metadata": {},
     "output_type": "execute_result"
    },
    {
     "data": {
      "image/png": "[encoded data removed]",
      "text/plain": [
       "<Figure size 432x288 with 1 Axes>"
      ]
     },
     "metadata": {
      "needs_background": "light"
     },
     "output_type": "display_data"
    }
   ],
   "source": [
    "df3=df1.tolist()\n",
    "df3.extend(lst_output)\n",
    "plt.plot(df3[1200:])"
   ]
  },
  {
   "cell_type": "code",
   "execution_count": 211,
   "metadata": {},
   "outputs": [],
   "source": [
    "df3=scaler.inverse_transform(df3).tolist()"
   ]
  },
  {
   "cell_type": "code",
   "execution_count": 212,
   "metadata": {},
   "outputs": [
    {
     "data": {
      "text/plain": [
       "[<matplotlib.lines.Line2D at 0x2b35b6c60d0>]"
      ]
     },
     "execution_count": 212,
     "metadata": {},
     "output_type": "execute_result"
    },
    {
     "data": {
      "image/png": "[encoded data removed]",
      "text/plain": [
       "<Figure size 432x288 with 1 Axes>"
      ]
     },
     "metadata": {
      "needs_background": "light"
     },
     "output_type": "display_data"
    }
   ],
   "source": [
    "plt.plot(df3)"
   ]
  },
  {
   "cell_type": "code",
   "execution_count": null,
   "metadata": {},
   "outputs": [],
   "source": []
  }
 ],
 "metadata": {
  "kernelspec": {
   "display_name": "Python 3 (ipykernel)",
   "language": "python",
   "name": "python3"
  },
  "language_info": {
   "codemirror_mode": {
    "name": "ipython",
    "version": 3
   },
   "file_extension": ".py",
   "mimetype": "text/x-python",
   "name": "python",
   "nbconvert_exporter": "python",
   "pygments_lexer": "ipython3",
   "version": "3.8.6"
  }
 },
 "nbformat": 4,
 "nbformat_minor": 4
}
